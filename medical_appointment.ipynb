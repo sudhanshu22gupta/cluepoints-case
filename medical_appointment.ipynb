{
 "cells": [
  {
   "cell_type": "code",
   "execution_count": null,
   "id": "d607f7a4",
   "metadata": {
    "ExecuteTime": {
     "end_time": "2023-09-01T22:35:05.107505Z",
     "start_time": "2023-09-01T22:35:05.102899Z"
    },
    "scrolled": false
   },
   "outputs": [],
   "source": [
    "display_width = 100 # in percentage\n",
    "\n",
    "from IPython.display import display, HTML\n",
    "display(HTML(\"<style>.container { width:\"+str(display_width)+\"% !important; }</style>\"))"
   ]
  },
  {
   "cell_type": "code",
   "execution_count": null,
   "id": "cbe1c9b5",
   "metadata": {
    "ExecuteTime": {
     "end_time": "2023-09-01T22:35:05.394359Z",
     "start_time": "2023-09-01T22:35:05.380197Z"
    }
   },
   "outputs": [],
   "source": [
    "%reload_ext autoreload\n",
    "%autoreload 2"
   ]
  },
  {
   "cell_type": "code",
   "execution_count": null,
   "id": "c0453da0",
   "metadata": {
    "ExecuteTime": {
     "end_time": "2023-09-01T22:35:06.044360Z",
     "start_time": "2023-09-01T22:35:06.036941Z"
    }
   },
   "outputs": [],
   "source": [
    "import sys\n",
    "sys.path.append(\"/Users/sudhanshugupta/Library/Python/3.9/lib/python/site-packages\")"
   ]
  },
  {
   "cell_type": "code",
   "execution_count": null,
   "id": "ee4bf502",
   "metadata": {
    "ExecuteTime": {
     "end_time": "2023-09-01T22:35:07.345721Z",
     "start_time": "2023-09-01T22:35:06.667073Z"
    }
   },
   "outputs": [],
   "source": [
    "import pandas as pd\n",
    "import numpy as np\n",
    "\n",
    "import os\n",
    "\n",
    "import matplotlib.pyplot as plt\n",
    "%matplotlib inline"
   ]
  },
  {
   "cell_type": "code",
   "execution_count": null,
   "id": "c67dd2a1",
   "metadata": {
    "ExecuteTime": {
     "end_time": "2023-09-01T22:35:11.149612Z",
     "start_time": "2023-09-01T22:35:08.062755Z"
    }
   },
   "outputs": [],
   "source": [
    "from EDA import EDA_medical_appointment\n",
    "from preprocessing import preprocMedicalAppointment\n",
    "from feature_extraction import featuresMedicalAppointment, feature_selection_permutation_importance, feature_selection_hierarchical_clustering\n",
    "from classification import LogisticRegressionClf, RandomForestClf, MLPClf, XGBClf\n",
    "from utils import train_val_test_split, compare_performances_across_classifiers"
   ]
  },
  {
   "cell_type": "markdown",
   "id": "09de5e3e",
   "metadata": {},
   "source": [
    "# Read Data"
   ]
  },
  {
   "cell_type": "code",
   "execution_count": null,
   "id": "488ac9e0",
   "metadata": {
    "ExecuteTime": {
     "end_time": "2023-09-01T22:35:13.580090Z",
     "start_time": "2023-09-01T22:35:13.377920Z"
    },
    "scrolled": true
   },
   "outputs": [],
   "source": [
    "df_medical_appointment = pd.read_csv(\"./data/medical_appointment_train.csv\")\n",
    "df_medical_appointment.rename(columns={\"No-show\": \"no_show\"}, inplace=True)\n",
    "df_medical_appointment['no_show'].replace({\"No\": 0, \"Yes\": 1}, inplace=True)\n",
    "feature_cols = [\n",
    "    'PatientID', 'AppointmentID', 'Gender', 'ScheduledDay',\n",
    "    'AppointmentDay', 'Age', 'Neighbourhood', 'Scholarship', 'Hypertension',\n",
    "    'Diabetes', 'Alcoholism', 'Handicap', 'SMS_received',\n",
    "]\n",
    "df_medical_appointment.sample(10)"
   ]
  },
  {
   "cell_type": "markdown",
   "id": "e5ad6c93",
   "metadata": {
    "heading_collapsed": true
   },
   "source": [
    "# Exploratory Data Analysis"
   ]
  },
  {
   "cell_type": "code",
   "execution_count": null,
   "id": "bd9ed47d",
   "metadata": {
    "ExecuteTime": {
     "end_time": "2023-09-01T22:15:12.487822Z",
     "start_time": "2023-09-01T22:15:12.481163Z"
    },
    "hidden": true
   },
   "outputs": [],
   "source": [
    "eda = EDA_medical_appointment(df_medical_appointment[feature_cols], df_medical_appointment['no_show'])"
   ]
  },
  {
   "cell_type": "code",
   "execution_count": null,
   "id": "2844d669",
   "metadata": {
    "ExecuteTime": {
     "end_time": "2023-09-01T22:15:13.780154Z",
     "start_time": "2023-09-01T22:15:13.092064Z"
    },
    "hidden": true,
    "scrolled": true
   },
   "outputs": [],
   "source": [
    "eda.describe_general_stats()"
   ]
  },
  {
   "cell_type": "markdown",
   "id": "cf432958",
   "metadata": {
    "hidden": true
   },
   "source": [
    "Min age < 0 in some cases. These are incorrect entries and for overall performance, it is desirable to remove these values from the dataset."
   ]
  },
  {
   "cell_type": "code",
   "execution_count": null,
   "id": "b29afd54",
   "metadata": {
    "ExecuteTime": {
     "end_time": "2023-09-01T22:15:15.112552Z",
     "start_time": "2023-09-01T22:15:14.302459Z"
    },
    "hidden": true,
    "scrolled": true
   },
   "outputs": [],
   "source": [
    "eda.stats_per_unique_patient()"
   ]
  },
  {
   "cell_type": "markdown",
   "id": "6c4a4887",
   "metadata": {
    "hidden": true
   },
   "source": [
    "Since, 83% of the patients visit less than 3 times, building the model primarily as a sequence classification problem is not desirable. However, a second level of sequence classification can be added to the repeat patients. This is however, not explored in this analysis.\n",
    "\n",
    "**Conclusion:** Frame the problem as a binary classification per patient"
   ]
  },
  {
   "cell_type": "code",
   "execution_count": null,
   "id": "2cf67d61",
   "metadata": {
    "ExecuteTime": {
     "end_time": "2023-09-01T22:15:15.743052Z",
     "start_time": "2023-09-01T22:15:15.676113Z"
    },
    "hidden": true
   },
   "outputs": [],
   "source": [
    "eda.visulaize_class_distribution()"
   ]
  },
  {
   "cell_type": "markdown",
   "id": "dadcc8bd",
   "metadata": {
    "hidden": true
   },
   "source": [
    "***Conclusion***\n",
    "\n",
    "**This is an imbalanced classification problem and techniques such as:**\n",
    "1. oversampling\n",
    "2. assigning class weights when performing classification\n",
    "3. creating synthetic data of the imbalanced class using techniques such as SMOTE"
   ]
  },
  {
   "cell_type": "code",
   "execution_count": null,
   "id": "806cd810",
   "metadata": {
    "ExecuteTime": {
     "end_time": "2023-09-01T22:15:16.741304Z",
     "start_time": "2023-09-01T22:15:16.325329Z"
    },
    "hidden": true
   },
   "outputs": [],
   "source": [
    "eda.visulaize_no_show_prob_per_variable()"
   ]
  },
  {
   "cell_type": "markdown",
   "id": "fd352241",
   "metadata": {
    "hidden": true
   },
   "source": [
    "***Conclusion***\n",
    "\n",
    "**For most variables, the independent and conditional probabilities are very similar. This implies that a person not showing up for an appointment is almost independent of these categorical variables. This means that knowing one of these variables or not doesn't substantially alter the probability of a person not showing up for an appointment. However, joint probabilities are not explored in this section, and a combination of these variables occurring together may impact the outcome.**"
   ]
  },
  {
   "cell_type": "markdown",
   "id": "22a110ab",
   "metadata": {},
   "source": [
    "# Preprocessing"
   ]
  },
  {
   "cell_type": "code",
   "execution_count": null,
   "id": "c487f3cb",
   "metadata": {
    "ExecuteTime": {
     "end_time": "2023-09-01T22:35:16.205815Z",
     "start_time": "2023-09-01T22:35:16.170767Z"
    }
   },
   "outputs": [],
   "source": [
    "preprocessor = preprocMedicalAppointment()"
   ]
  },
  {
   "cell_type": "code",
   "execution_count": null,
   "id": "ff5ea6e4",
   "metadata": {
    "ExecuteTime": {
     "end_time": "2023-09-01T22:35:18.835030Z",
     "start_time": "2023-09-01T22:35:18.794087Z"
    }
   },
   "outputs": [],
   "source": [
    "print(\"before\", df_medical_appointment.shape)\n",
    "df_medical_appointment = preprocessor.remove_outliers_age(df_medical_appointment)\n",
    "print(\"after\", df_medical_appointment.shape)"
   ]
  },
  {
   "cell_type": "code",
   "execution_count": null,
   "id": "3e95994d",
   "metadata": {
    "ExecuteTime": {
     "end_time": "2023-09-01T22:35:21.532603Z",
     "start_time": "2023-09-01T22:35:21.470754Z"
    },
    "scrolled": true
   },
   "outputs": [],
   "source": [
    "X_train, y_train, X_test, y_test, X_val, y_val = train_val_test_split(df_medical_appointment, feature_cols=feature_cols, target_col='no_show', test_percent=20)"
   ]
  },
  {
   "cell_type": "markdown",
   "id": "fc75fd2b",
   "metadata": {},
   "source": [
    "# Feature Extraction"
   ]
  },
  {
   "cell_type": "code",
   "execution_count": null,
   "id": "4e1d04ef",
   "metadata": {
    "ExecuteTime": {
     "end_time": "2023-09-01T22:35:24.700959Z",
     "start_time": "2023-09-01T22:35:24.666611Z"
    }
   },
   "outputs": [],
   "source": [
    "feature_extractor = featuresMedicalAppointment()"
   ]
  },
  {
   "cell_type": "code",
   "execution_count": null,
   "id": "c01e4163",
   "metadata": {
    "ExecuteTime": {
     "end_time": "2023-09-01T22:35:27.850785Z",
     "start_time": "2023-09-01T22:35:27.813418Z"
    }
   },
   "outputs": [],
   "source": [
    "X_train.shape"
   ]
  },
  {
   "cell_type": "code",
   "execution_count": null,
   "id": "e0002b36",
   "metadata": {
    "ExecuteTime": {
     "end_time": "2023-09-01T22:35:31.712764Z",
     "start_time": "2023-09-01T22:35:30.973271Z"
    }
   },
   "outputs": [],
   "source": [
    "scheduled_after_appointment_strategy = 'drop' # numeric or 'drop'\n",
    "X_train, y_train = feature_extractor.feat_n_hours_scheduled_before(X_train, y_train, scheduled_after_appointment_strategy=scheduled_after_appointment_strategy)\n",
    "X_train.shape, y_train.shape"
   ]
  },
  {
   "cell_type": "code",
   "execution_count": null,
   "id": "73336c64",
   "metadata": {
    "ExecuteTime": {
     "end_time": "2023-09-01T22:35:34.953200Z",
     "start_time": "2023-09-01T22:35:34.896765Z"
    }
   },
   "outputs": [],
   "source": [
    "X_train = feature_extractor.feat_appointment_date(X_train)\n",
    "X_train.shape"
   ]
  },
  {
   "cell_type": "code",
   "execution_count": null,
   "id": "6c463e24",
   "metadata": {
    "ExecuteTime": {
     "end_time": "2023-09-01T22:35:38.363337Z",
     "start_time": "2023-09-01T22:35:38.178471Z"
    },
    "scrolled": true
   },
   "outputs": [],
   "source": [
    "infrequent_threshold = 100\n",
    "X_train = feature_extractor.feat_categorical_to_one_hot_encoding_train(X_train, infrequent_threshold=infrequent_threshold)\n",
    "X_train.shape"
   ]
  },
  {
   "cell_type": "code",
   "execution_count": null,
   "id": "676168da",
   "metadata": {
    "ExecuteTime": {
     "end_time": "2023-09-01T22:35:42.162642Z",
     "start_time": "2023-09-01T22:35:42.115983Z"
    },
    "scrolled": true
   },
   "outputs": [],
   "source": [
    "columns_to_scale = ['Age']\n",
    "X_train = feature_extractor.feat_minmax_norm_train(X_train, columns_to_scale)\n",
    "X_train.shape"
   ]
  },
  {
   "cell_type": "code",
   "execution_count": null,
   "id": "f27cdbda",
   "metadata": {
    "ExecuteTime": {
     "end_time": "2023-09-01T22:35:45.991246Z",
     "start_time": "2023-09-01T22:35:45.932538Z"
    }
   },
   "outputs": [],
   "source": [
    "X_train.drop(columns=['PatientID', 'AppointmentID', 'ScheduledDay', 'AppointmentDay'], inplace=True)\n",
    "X_train.shape"
   ]
  },
  {
   "cell_type": "code",
   "execution_count": null,
   "id": "2ec5f11a",
   "metadata": {
    "ExecuteTime": {
     "end_time": "2023-09-01T22:35:49.512300Z",
     "start_time": "2023-09-01T22:35:49.464879Z"
    },
    "scrolled": true
   },
   "outputs": [],
   "source": [
    "X_train.info()"
   ]
  },
  {
   "cell_type": "markdown",
   "id": "bc02ecc0",
   "metadata": {
    "heading_collapsed": true
   },
   "source": [
    "# Feature Selection"
   ]
  },
  {
   "cell_type": "markdown",
   "id": "1b32a753",
   "metadata": {
    "hidden": true
   },
   "source": [
    ">**Permutation Importance**\n",
    "\n",
    "    One of the most basic questions we might ask of a model is: \n",
    "    What features have the biggest impact on predictions? This concept is called feature importance.\n",
    "\n",
    "    In this notebook we use permutation importance. Compared to most other approaches, permutation importance is:\n",
    "           - fast to calculate,\n",
    "           - widely used and understood, and\n",
    "           - consistent with properties we would want a feature importance measure to have.\n",
    "    The basic question it answers is: If I randomly shuffle a single column of the validation data, leaving the target and all other columns in place, how would that affect the accuracy of predictions in that now-shuffled data? Randomly re-ordering a single column should cause less accurate predictions, since the resulting data no longer corresponds to anything observed in the real world. Model accuracy especially suffers if we shuffle a column that the model relied on heavily for predictions."
   ]
  },
  {
   "cell_type": "markdown",
   "id": "84b7f68d",
   "metadata": {
    "hidden": true
   },
   "source": [
    ">**Hierarchical clustering**\n",
    "\n",
    "    In hierarchical clustering, we look at every pair of objects and say which two objects are the closest. We then take the closest pair, delete them, and replace them with the midpoint of the two. Then repeat that again and again. Since we are removing points and replacing them with their averages, we are gradually reducing a number of points by pairwise combining. Rather than looking at points, we look at variables and see which two variables are the most similar. In a resulting dendrogram, the vertical axis here is how similar are the two points that are being compared. If they are closer to 0, that means that they are very similar. In this case, (1 - Spearman’s R) is used. So correlation is almost exactly the same as the R², but it’s between two variables rather than a variable and its prediction."
   ]
  },
  {
   "cell_type": "markdown",
   "id": "270fdc73",
   "metadata": {
    "hidden": true
   },
   "source": [
    "## Feature Selection Method 1: Permutation Importance + Hierarchical Clustering"
   ]
  },
  {
   "cell_type": "markdown",
   "id": "973abd6a",
   "metadata": {
    "hidden": true
   },
   "source": [
    "### Permutation Importance 1"
   ]
  },
  {
   "cell_type": "code",
   "execution_count": null,
   "id": "d55d2179",
   "metadata": {
    "ExecuteTime": {
     "end_time": "2023-09-01T22:15:37.273192Z",
     "start_time": "2023-09-01T22:15:33.459714Z"
    },
    "hidden": true,
    "scrolled": true
   },
   "outputs": [],
   "source": [
    "df_feature_importances = feature_selection_permutation_importance(\n",
    "    X_train[:1000], \n",
    "    y_train[:1000], \n",
    "    n_jobs=4, \n",
    "    n_repeats=4,\n",
    "    plot=True,\n",
    ")"
   ]
  },
  {
   "cell_type": "markdown",
   "id": "b87ab64f",
   "metadata": {
    "hidden": true
   },
   "source": [
    "### Hierarchical Clustering 1"
   ]
  },
  {
   "cell_type": "code",
   "execution_count": null,
   "id": "bb29a0b8",
   "metadata": {
    "ExecuteTime": {
     "end_time": "2023-09-01T22:15:38.735784Z",
     "start_time": "2023-09-01T22:15:38.733268Z"
    },
    "hidden": true
   },
   "outputs": [],
   "source": [
    "THRESHOLD_CLUSTERING = 0.75\n",
    "THRESHOLD_IMPORTANCE = None # Set to None in first iteration"
   ]
  },
  {
   "cell_type": "code",
   "execution_count": null,
   "id": "d2788254",
   "metadata": {
    "ExecuteTime": {
     "end_time": "2023-09-01T22:15:42.636365Z",
     "start_time": "2023-09-01T22:15:40.174618Z"
    },
    "hidden": true,
    "scrolled": true
   },
   "outputs": [],
   "source": [
    "df_selected_features = feature_selection_hierarchical_clustering(\n",
    "    X_train, \n",
    "    threshold_clustering=THRESHOLD_CLUSTERING, \n",
    "    threshold_importance=THRESHOLD_IMPORTANCE, \n",
    "    df_feature_importances=df_feature_importances, \n",
    "    plot=True,\n",
    ")\n",
    "\n",
    "display(df_selected_features)"
   ]
  },
  {
   "cell_type": "code",
   "execution_count": null,
   "id": "a05fcd9f",
   "metadata": {
    "ExecuteTime": {
     "end_time": "2023-09-01T22:15:44.189990Z",
     "start_time": "2023-09-01T22:15:44.187427Z"
    },
    "hidden": true,
    "scrolled": true
   },
   "outputs": [],
   "source": [
    "FEATURES_PERMUTATION_IMPORTANCE_2 = df_selected_features['feature'].to_list()"
   ]
  },
  {
   "cell_type": "markdown",
   "id": "03bef94f",
   "metadata": {
    "hidden": true
   },
   "source": [
    "### Permutation Importance 2"
   ]
  },
  {
   "cell_type": "code",
   "execution_count": null,
   "id": "5b9dc38e",
   "metadata": {
    "ExecuteTime": {
     "end_time": "2023-09-01T22:15:49.591785Z",
     "start_time": "2023-09-01T22:15:45.750497Z"
    },
    "hidden": true,
    "scrolled": true
   },
   "outputs": [],
   "source": [
    "df_feature_importances = feature_selection_permutation_importance(\n",
    "    X_train[FEATURES_PERMUTATION_IMPORTANCE_2][:1000],\n",
    "    y_train[:1000],\n",
    "    n_jobs=4,\n",
    "    n_repeats=4,\n",
    "    plot=True,\n",
    ")"
   ]
  },
  {
   "cell_type": "markdown",
   "id": "9047b40c",
   "metadata": {
    "hidden": true
   },
   "source": [
    "### Hierarchical Clustering 2"
   ]
  },
  {
   "cell_type": "code",
   "execution_count": null,
   "id": "f3ce6d36",
   "metadata": {
    "ExecuteTime": {
     "end_time": "2023-09-01T22:15:51.151563Z",
     "start_time": "2023-09-01T22:15:51.148818Z"
    },
    "hidden": true
   },
   "outputs": [],
   "source": [
    "THRESHOLD_CLUSTERING = 0.75 #0.055\n",
    "THRESHOLD_IMPORTANCE = 0.005"
   ]
  },
  {
   "cell_type": "code",
   "execution_count": null,
   "id": "12810694",
   "metadata": {
    "ExecuteTime": {
     "end_time": "2023-09-01T22:15:55.093336Z",
     "start_time": "2023-09-01T22:15:52.690193Z"
    },
    "hidden": true,
    "scrolled": true
   },
   "outputs": [],
   "source": [
    "df_selected_features = feature_selection_hierarchical_clustering(\n",
    "    X_train[FEATURES_PERMUTATION_IMPORTANCE_2], \n",
    "    threshold_clustering=THRESHOLD_CLUSTERING, \n",
    "    threshold_importance=THRESHOLD_IMPORTANCE, \n",
    "    df_feature_importances=df_feature_importances, \n",
    "    plot=True,\n",
    ")\n",
    "\n",
    "display(df_selected_features)"
   ]
  },
  {
   "cell_type": "code",
   "execution_count": null,
   "id": "2f4f301f",
   "metadata": {
    "ExecuteTime": {
     "end_time": "2023-09-01T22:15:56.618532Z",
     "start_time": "2023-09-01T22:15:56.614131Z"
    },
    "hidden": true
   },
   "outputs": [],
   "source": [
    "FEATURES_LIST_PI_HC = df_selected_features['feature'].to_list()\n",
    "len(FEATURES_LIST_PI_HC)"
   ]
  },
  {
   "cell_type": "markdown",
   "id": "693f8170",
   "metadata": {
    "heading_collapsed": true,
    "hidden": true
   },
   "source": [
    "## Feature Selection Method 2: Principal Components Analysis"
   ]
  },
  {
   "cell_type": "code",
   "execution_count": null,
   "id": "6359e422",
   "metadata": {
    "ExecuteTime": {
     "end_time": "2023-09-01T21:49:36.127631Z",
     "start_time": "2023-09-01T21:49:08.226623Z"
    },
    "hidden": true,
    "scrolled": true
   },
   "outputs": [],
   "source": [
    "feature_extractor.plot_optimal_PCA_components(X_train)"
   ]
  },
  {
   "cell_type": "code",
   "execution_count": null,
   "id": "8abe9a5e",
   "metadata": {
    "ExecuteTime": {
     "end_time": "2023-09-01T21:01:47.898313Z",
     "start_time": "2023-09-01T21:01:47.734817Z"
    },
    "hidden": true
   },
   "outputs": [],
   "source": [
    "# feature_extractor.feat_PCA_train(X_train, n_components=10)"
   ]
  },
  {
   "cell_type": "markdown",
   "id": "794e12cd",
   "metadata": {
    "ExecuteTime": {
     "end_time": "2023-09-01T22:07:25.670168Z",
     "start_time": "2023-09-01T22:07:25.630886Z"
    },
    "hidden": true
   },
   "source": [
    "The fact that one principal component explains all the variance suggests that the original features are not providing distinct and independent information. Instead, they are highly correlated or redundant with each other.\n",
    "\n",
    "This method is not used in this analysis further."
   ]
  },
  {
   "cell_type": "markdown",
   "id": "22037bf2",
   "metadata": {
    "hidden": true
   },
   "source": [
    "## Select the desired feature list"
   ]
  },
  {
   "cell_type": "code",
   "execution_count": null,
   "id": "d864a31f",
   "metadata": {
    "ExecuteTime": {
     "end_time": "2023-09-01T22:15:58.157394Z",
     "start_time": "2023-09-01T22:15:58.155108Z"
    },
    "hidden": true
   },
   "outputs": [],
   "source": [
    "FEATURES_LIST_SELECTED = list(X_train.columns) # FEATURES_LIST_PI_HC / list(X_train.columns)\n",
    "print(len(FEATURES_LIST_SELECTED))"
   ]
  },
  {
   "cell_type": "markdown",
   "id": "54894340",
   "metadata": {},
   "source": [
    "# Classification"
   ]
  },
  {
   "cell_type": "markdown",
   "id": "b3b384e4",
   "metadata": {
    "ExecuteTime": {
     "end_time": "2023-09-01T14:13:52.204749Z",
     "start_time": "2023-09-01T14:13:52.157022Z"
    }
   },
   "source": [
    "add calibration"
   ]
  },
  {
   "cell_type": "markdown",
   "id": "a1995536",
   "metadata": {},
   "source": [
    "force infrequent neighborhood classes in test to be same as train\n",
    "\n",
    "or knoiw the infrequent alreaDY AND FORCE IN BOTH TESTR AND TRAIN"
   ]
  },
  {
   "cell_type": "code",
   "execution_count": null,
   "id": "b2e6d05a",
   "metadata": {},
   "outputs": [],
   "source": [
    "df_metrics = pd.DataFrame()"
   ]
  },
  {
   "cell_type": "code",
   "execution_count": null,
   "id": "082f6f4a",
   "metadata": {
    "ExecuteTime": {
     "end_time": "2023-09-01T22:35:53.197643Z",
     "start_time": "2023-09-01T22:35:52.973354Z"
    },
    "scrolled": true
   },
   "outputs": [],
   "source": [
    "X_test, y_test = feature_extractor.feat_n_hours_scheduled_before(X_test, y_test, scheduled_after_appointment_strategy=scheduled_after_appointment_strategy)\n",
    "X_test = feature_extractor.feat_appointment_date(X_test)\n",
    "X_test = feature_extractor.feat_categorical_to_one_hot_encoding_test(X_test)\n",
    "X_test = feature_extractor.feat_minmax_norm_test(X_test, columns_to_scale)\n",
    "X_test.drop(columns=['PatientID', 'AppointmentID', 'ScheduledDay', 'AppointmentDay'], inplace=True)\n",
    "X_test.shape"
   ]
  },
  {
   "cell_type": "markdown",
   "id": "092ec868",
   "metadata": {},
   "source": [
    "## Logistic Regression Classifier"
   ]
  },
  {
   "cell_type": "code",
   "execution_count": null,
   "id": "c2a49571",
   "metadata": {
    "ExecuteTime": {
     "end_time": "2023-09-01T22:36:26.087443Z",
     "start_time": "2023-09-01T22:36:25.594261Z"
    },
    "scrolled": true
   },
   "outputs": [],
   "source": [
    "clf_logistic_regression = LogisticRegressionClf()\n",
    "clf_logistic_regression.set_class_weights()\n",
    "clf_logistic_regression.fit_classifier(X_train[FEATURES_LIST_SELECTED], y_train)"
   ]
  },
  {
   "cell_type": "code",
   "execution_count": null,
   "id": "7d245f21",
   "metadata": {
    "ExecuteTime": {
     "end_time": "2023-09-01T22:36:26.516657Z",
     "start_time": "2023-09-01T22:36:26.465144Z"
    },
    "scrolled": true
   },
   "outputs": [],
   "source": [
    "y_pred = clf_logistic_regression.predict_classifier(X_test[FEATURES_LIST_SELECTED])\n",
    "precision_lr, recall_lr, f1_lr, accuracy_lr = clf_logistic_regression.evaluate_classifier(y_test, y_pred)"
   ]
  },
  {
   "cell_type": "code",
   "execution_count": null,
   "id": "4705cda1",
   "metadata": {},
   "outputs": [],
   "source": [
    "df_metrics = pd.concat([\n",
    "    df_metrics,\n",
    "    pd.DataFrame({\n",
    "        \"classifier\": \"logistic_regression\",\n",
    "        \"precision\": precision_lr,\n",
    "        \"recall\": recall_lr,\n",
    "        \"f1\": f1_lr,\n",
    "        \"accuracy\": accuracy_lr,\n",
    "    }, index=[0])\n",
    "])\n",
    "df_metrics"
   ]
  },
  {
   "cell_type": "markdown",
   "id": "ad10bbee",
   "metadata": {},
   "source": [
    "## Random Forest Classifier"
   ]
  },
  {
   "cell_type": "code",
   "execution_count": null,
   "id": "b340143a",
   "metadata": {
    "ExecuteTime": {
     "end_time": "2023-09-01T14:09:34.663107Z",
     "start_time": "2023-09-01T14:09:28.428181Z"
    }
   },
   "outputs": [],
   "source": [
    "clf_rf = RandomForestClf()\n",
    "clf_rf.set_class_weights()\n",
    "clf_rf.fit_classifier(X_train[FEATURES_LIST_SELECTED], y_train)"
   ]
  },
  {
   "cell_type": "code",
   "execution_count": null,
   "id": "b1cde638",
   "metadata": {
    "ExecuteTime": {
     "end_time": "2023-09-01T14:09:37.740103Z",
     "start_time": "2023-09-01T14:09:37.168738Z"
    }
   },
   "outputs": [],
   "source": [
    "y_pred = clf_rf.predict_classifier(X_test[FEATURES_LIST_SELECTED])\n",
    "precision_rf, recall_rf, f1_rf, accuracy_rf = clf_rf.evaluate_classifier(y_test, y_pred)"
   ]
  },
  {
   "cell_type": "code",
   "execution_count": null,
   "id": "4705cda1",
   "metadata": {},
   "outputs": [],
   "source": [
    "df_metrics = pd.concat([\n",
    "    df_metrics,\n",
    "    pd.DataFrame({\n",
    "        \"classifier\": \"random_forest\",\n",
    "        \"precision\": precision_rf,\n",
    "        \"recall\": recall_rf,\n",
    "        \"f1\": f1_rf,\n",
    "        \"accuracy\": accuracy_rf,\n",
    "    }, index=[0])\n",
    "])\n",
    "df_metrics"
   ]
  },
  {
   "cell_type": "markdown",
   "id": "3ce65fdb",
   "metadata": {},
   "source": [
    "### Hyperparameter Tuning"
   ]
  },
  {
   "cell_type": "markdown",
   "id": "0afc7409",
   "metadata": {},
   "source": [
    "ADD GRAPHS TO SHOW DIFFERENT CLASSIFIERS HYPERPARAMETER TUNING AND SEE WHAT FACTOR MAKES A DIFFERENCE"
   ]
  },
  {
   "cell_type": "code",
   "execution_count": null,
   "id": "a73d87da",
   "metadata": {
    "ExecuteTime": {
     "end_time": "2023-09-01T14:11:12.750012Z",
     "start_time": "2023-09-01T14:10:41.631315Z"
    }
   },
   "outputs": [],
   "source": [
    "param_space = {\n",
    "    'n_estimators': (10, 500),\n",
    "    'max_depth': (50, 200),\n",
    "    'min_samples_split': (2, 100),\n",
    "    'min_samples_leaf': (5, 100),\n",
    "    'max_features': (0.2, 1.0),\n",
    "}\n",
    "\n",
    "clf_rf.hyperparmater_tuning(X_train[FEATURES_LIST_SELECTED], y_train, param_space, n_iter=50, cv=5, n_jobs=32)"
   ]
  },
  {
   "cell_type": "code",
   "execution_count": null,
   "id": "20a91c1a",
   "metadata": {
    "ExecuteTime": {
     "end_time": "2023-08-27T19:39:59.537914Z",
     "start_time": "2023-08-27T19:39:59.438229Z"
    }
   },
   "outputs": [],
   "source": [
    "y_pred = clf_rf.predict_classifier(X_test[FEATURES_LIST_SELECTED])\n",
    "precision_rf_best, recall_rf_best, f1_rf_best, accuracy_rf_best = clf_rf.evaluate_classifier(y_test, y_pred)"
   ]
  },
  {
   "cell_type": "code",
   "execution_count": null,
   "id": "b325ae2f",
   "metadata": {},
   "outputs": [],
   "source": [
    "df_metrics = pd.concat([\n",
    "    df_metrics,\n",
    "    pd.DataFrame({\n",
    "        \"classifier\": \"random_forest_HP_tuned\",\n",
    "        \"precision\": precision_best,\n",
    "        \"recall\": recall_best,\n",
    "        \"f1\": f1_best,\n",
    "        \"accuracy\": accuracy_best,\n",
    "    }, index=[0])\n",
    "])\n",
    "df_metrics"
   ]
  },
  {
   "cell_type": "markdown",
   "id": "27550826",
   "metadata": {},
   "source": [
    "## XGBoost Classifier"
   ]
  },
  {
   "cell_type": "code",
   "execution_count": null,
   "id": "96e456b5",
   "metadata": {
    "ExecuteTime": {
     "end_time": "2023-09-01T14:12:51.378151Z",
     "start_time": "2023-09-01T14:12:50.139286Z"
    }
   },
   "outputs": [],
   "source": [
    "clf_xgb = XGBClf()\n",
    "clf_xgb.fit_classifier(X_train[FEATURES_LIST_SELECTED], y_train)"
   ]
  },
  {
   "cell_type": "code",
   "execution_count": null,
   "id": "1eaff558",
   "metadata": {
    "ExecuteTime": {
     "end_time": "2023-09-01T14:12:53.872540Z",
     "start_time": "2023-09-01T14:12:53.808504Z"
    }
   },
   "outputs": [],
   "source": [
    "y_pred = clf_xgb.predict_classifier(X_test[FEATURES_LIST_SELECTED])\n",
    "precision_xgb, recall_xgb, f1_xgb, accuracy_xgb = clf_xgb.evaluate_classifier(y_test, y_pred)"
   ]
  },
  {
   "cell_type": "code",
   "execution_count": null,
   "id": "6fde1209",
   "metadata": {
    "ExecuteTime": {
     "end_time": "2023-09-01T14:12:57.066205Z",
     "start_time": "2023-09-01T14:12:56.331862Z"
    },
    "scrolled": true
   },
   "outputs": [],
   "source": [
    "threshold_values = np.arange(0, 1, 0.05)\n",
    "clf_xgb.predict_per_threshold(X_test[FEATURES_LIST_SELECTED], y_test, threshold_values)"
   ]
  },
  {
   "cell_type": "code",
   "execution_count": null,
   "id": "3d3c188c",
   "metadata": {},
   "outputs": [],
   "source": [
    "pd.DataFrame.from_dict({\n",
    "        \"classifier\": [\"XGBoost\"],\n",
    "        \"precision\": [precision_xgb],\n",
    "        \"recall\": [recall_xgb],\n",
    "        \"f1\": [f1_xgb],\n",
    "        \"accuracy\": [accuracy_xgb],\n",
    "    })"
   ]
  },
  {
   "cell_type": "code",
   "execution_count": null,
   "id": "4705cda1",
   "metadata": {},
   "outputs": [],
   "source": [
    "df_metrics = pd.concat([\n",
    "    df_metrics,\n",
    "    pd.DataFrame({\n",
    "        \"classifier\": \"XGBoost\",\n",
    "        \"precision\": precision_xgb,\n",
    "        \"recall\": recall_xgb,\n",
    "        \"f1\": f1_xgb,\n",
    "        \"accuracy\": accuracy_xgb,\n",
    "    }, index=[0])\n",
    "])\n",
    "df_metrics"
   ]
  },
  {
   "cell_type": "markdown",
   "id": "6f4eedec",
   "metadata": {},
   "source": [
    "## MLP Classifier"
   ]
  },
  {
   "cell_type": "code",
   "execution_count": null,
   "id": "d3f314e6",
   "metadata": {
    "ExecuteTime": {
     "end_time": "2023-09-01T14:14:34.607677Z",
     "start_time": "2023-09-01T14:14:04.127252Z"
    },
    "scrolled": true
   },
   "outputs": [],
   "source": [
    "clf_mlp = MLPClf()\n",
    "clf_mlp.set_class_weights()\n",
    "clf_mlp.fit_classifier(X_train[FEATURES_LIST_SELECTED], y_train)"
   ]
  },
  {
   "cell_type": "code",
   "execution_count": null,
   "id": "46d134d3",
   "metadata": {
    "ExecuteTime": {
     "end_time": "2023-09-01T14:14:40.285365Z",
     "start_time": "2023-09-01T14:14:40.005094Z"
    },
    "scrolled": false
   },
   "outputs": [],
   "source": [
    "y_pred = clf_mlp.predict_classifier(X_test[FEATURES_LIST_SELECTED])\n",
    "precision_mlp, recall_mlp, f1_mlp, accuracy_mlp = clf_mlp.evaluate_classifier(y_test, y_pred)"
   ]
  },
  {
   "cell_type": "code",
   "execution_count": null,
   "id": "4705cda1",
   "metadata": {},
   "outputs": [],
   "source": [
    "df_metrics = pd.concat([\n",
    "    df_metrics,\n",
    "    pd.DataFrame({\n",
    "        \"classifier\": \"MLP\",\n",
    "        \"precision\": precision_mlp,\n",
    "        \"recall\": recall_mlp,\n",
    "        \"f1\": f1_mlp,\n",
    "        \"accuracy\": accuracy_mlp,\n",
    "    }, index=[0])\n",
    "])\n",
    "df_metrics"
   ]
  },
  {
   "cell_type": "code",
   "execution_count": null,
   "id": "2d06974a",
   "metadata": {
    "ExecuteTime": {
     "end_time": "2023-09-01T14:14:48.073298Z",
     "start_time": "2023-09-01T14:14:47.820648Z"
    },
    "scrolled": false
   },
   "outputs": [],
   "source": [
    "y_pred = clf_mlp.predict_at_threshold(X_test[FEATURES_LIST_SELECTED], 0.4)\n",
    "precision_mlp_thr_0_4, recall_mlp_thr_0_4, f1_mlp_thr_0_4, accuracy_mlp_thr_0_4 = clf_mlp.evaluate_classifier(y_test, y_pred)"
   ]
  },
  {
   "cell_type": "code",
   "execution_count": null,
   "id": "4705cda1",
   "metadata": {},
   "outputs": [],
   "source": [
    "df_metrics = pd.concat([\n",
    "    df_metrics,\n",
    "    pd.DataFrame({\n",
    "        \"classifier\": \"MLP_thr_0.4\",\n",
    "        \"precision\": precision_mlp_thr_0_4,\n",
    "        \"recall\": recall_mlp_thr_0_4,\n",
    "        \"f1\": f1_mlp_thr_0_4,\n",
    "        \"accuracy\": accuracy_mlp_thr_0_4,\n",
    "    }, index=[0])\n",
    "])\n",
    "df_metrics"
   ]
  },
  {
   "cell_type": "code",
   "execution_count": null,
   "id": "b3f782f6",
   "metadata": {
    "ExecuteTime": {
     "end_time": "2023-08-27T09:22:18.545939Z",
     "start_time": "2023-08-27T09:22:17.598238Z"
    },
    "scrolled": true
   },
   "outputs": [],
   "source": [
    "threshold_values = np.arange(0, 1, 0.05)\n",
    "clf_mlp.predict_per_threshold(X_test[FEATURES_LIST_SELECTED], y_test, threshold_values)"
   ]
  },
  {
   "cell_type": "markdown",
   "id": "407131b7",
   "metadata": {},
   "source": [
    "## Compare Classifers"
   ]
  },
  {
   "cell_type": "code",
   "execution_count": null,
   "id": "6e6331f6",
   "metadata": {},
   "outputs": [],
   "source": [
    "compare_performances_across_classifiers(df_metrics)"
   ]
  },
  {
   "cell_type": "markdown",
   "id": "fede2c83",
   "metadata": {},
   "source": [
    "# Error analysis"
   ]
  },
  {
   "cell_type": "code",
   "execution_count": null,
   "id": "efb01069",
   "metadata": {
    "ExecuteTime": {
     "end_time": "2023-09-01T14:19:07.177848Z",
     "start_time": "2023-09-01T14:19:06.837725Z"
    },
    "scrolled": true
   },
   "outputs": [],
   "source": [
    "import giskard"
   ]
  },
  {
   "cell_type": "code",
   "execution_count": null,
   "id": "bd94c029",
   "metadata": {
    "ExecuteTime": {
     "end_time": "2023-09-01T14:19:30.808200Z",
     "start_time": "2023-09-01T14:19:30.768913Z"
    }
   },
   "outputs": [],
   "source": [
    "classifier = clf_rf"
   ]
  },
  {
   "cell_type": "code",
   "execution_count": null,
   "id": "adb4d0d3",
   "metadata": {
    "ExecuteTime": {
     "end_time": "2023-09-01T14:19:33.343931Z",
     "start_time": "2023-09-01T14:19:33.288296Z"
    }
   },
   "outputs": [],
   "source": [
    "giskard_model = giskard.Model(\n",
    "    model=classifier.predict_proba_classifier,  # A prediction function that encapsulates all the data pre-processing steps and that could be executed with the dataset used by the scan.\n",
    "    model_type=\"classification\",  # Either regression, classification or text_generation.\n",
    "    name=\"Medical Appointment\",  # Optional\n",
    "    classification_labels=np.unique(y_test),  # Their order MUST be identical to the prediction_function's output order\n",
    "    feature_names=FEATURES_LIST_SELECTED,  # Default: all columns of your dataset\n",
    "    # classification_threshold=0.5,  # Default: 0.5\n",
    ")\n",
    "\n",
    "giskard_dataset = giskard.Dataset(pd.concat([X_test, pd.Series(y_test, name='target')], axis=1))\n",
    "\n",
    "# Then apply the scan\n",
    "results = giskard.scan(giskard_model, giskard_dataset)"
   ]
  },
  {
   "cell_type": "code",
   "execution_count": null,
   "id": "e2743785",
   "metadata": {},
   "outputs": [],
   "source": [
    "display(results)"
   ]
  },
  {
   "cell_type": "code",
   "execution_count": null,
   "id": "06301377",
   "metadata": {},
   "outputs": [],
   "source": []
  }
 ],
 "metadata": {
  "kernelspec": {
   "display_name": "Python 3.9.6 ('venv_cp_cs': venv)",
   "language": "python",
   "name": "python3"
  },
  "language_info": {
   "codemirror_mode": {
    "name": "ipython",
    "version": 3
   },
   "file_extension": ".py",
   "mimetype": "text/x-python",
   "name": "python",
   "nbconvert_exporter": "python",
   "pygments_lexer": "ipython3",
   "version": "3.9.6"
  },
  "toc": {
   "base_numbering": 1,
   "nav_menu": {},
   "number_sections": true,
   "sideBar": true,
   "skip_h1_title": false,
   "title_cell": "Table of Contents",
   "title_sidebar": "Contents",
   "toc_cell": false,
   "toc_position": {},
   "toc_section_display": true,
   "toc_window_display": false
  },
  "varInspector": {
   "cols": {
    "lenName": 16,
    "lenType": 16,
    "lenVar": 40
   },
   "kernels_config": {
    "python": {
     "delete_cmd_postfix": "",
     "delete_cmd_prefix": "del ",
     "library": "var_list.py",
     "varRefreshCmd": "print(var_dic_list())"
    },
    "r": {
     "delete_cmd_postfix": ") ",
     "delete_cmd_prefix": "rm(",
     "library": "var_list.r",
     "varRefreshCmd": "cat(var_dic_list()) "
    }
   },
   "types_to_exclude": [
    "module",
    "function",
    "builtin_function_or_method",
    "instance",
    "_Feature"
   ],
   "window_display": false
  },
  "vscode": {
   "interpreter": {
    "hash": "33ebea81373cee19622d4473e64a70e00f3e3c5224a4e764012af10217c52193"
   }
  }
 },
 "nbformat": 4,
 "nbformat_minor": 5
}
