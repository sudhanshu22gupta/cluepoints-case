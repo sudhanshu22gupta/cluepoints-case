{
 "cells": [
  {
   "cell_type": "code",
   "execution_count": null,
   "id": "26394217",
   "metadata": {
    "ExecuteTime": {
     "end_time": "2023-08-27T19:01:05.089544Z",
     "start_time": "2023-08-27T19:01:05.080480Z"
    },
    "scrolled": false
   },
   "outputs": [],
   "source": [
    "display_width = 100 # in percentage\n",
    "\n",
    "from IPython.display import display, HTML\n",
    "display(HTML(\"<style>.container { width:\"+str(display_width)+\"% !important; }</style>\"))"
   ]
  },
  {
   "cell_type": "code",
   "execution_count": null,
   "id": "72b73e15",
   "metadata": {
    "ExecuteTime": {
     "end_time": "2023-08-27T19:01:05.654338Z",
     "start_time": "2023-08-27T19:01:05.638667Z"
    }
   },
   "outputs": [],
   "source": [
    "%reload_ext autoreload\n",
    "%autoreload 2"
   ]
  },
  {
   "cell_type": "code",
   "execution_count": null,
   "id": "eb868233",
   "metadata": {
    "ExecuteTime": {
     "end_time": "2023-08-27T19:01:05.953564Z",
     "start_time": "2023-08-27T19:01:05.942593Z"
    }
   },
   "outputs": [],
   "source": [
    "# import sys\n",
    "# sys.path.append(\"/Users/sudhanshugupta/Library/Python/3.9/lib/python/site-packages\")"
   ]
  },
  {
   "cell_type": "code",
   "execution_count": null,
   "id": "03cfa348",
   "metadata": {
    "ExecuteTime": {
     "end_time": "2023-08-27T19:01:10.535841Z",
     "start_time": "2023-08-27T19:01:09.849728Z"
    }
   },
   "outputs": [],
   "source": [
    "import pandas as pd\n",
    "import numpy as np\n",
    "\n",
    "import os\n",
    "\n",
    "import matplotlib.pyplot as plt\n",
    "%matplotlib inline"
   ]
  },
  {
   "cell_type": "code",
   "execution_count": null,
   "id": "0653feaa",
   "metadata": {
    "ExecuteTime": {
     "end_time": "2023-08-27T19:01:14.042084Z",
     "start_time": "2023-08-27T19:01:10.562088Z"
    }
   },
   "outputs": [],
   "source": [
    "from EDA import EDA_medical_appointment\n",
    "from preprocessing import preprocMedicalAppointment\n",
    "from feature_extraction import featuresMedicalAppointment, feature_selection_permutation_importance, feature_selection_hierarchical_clustering\n",
    "from classification import LogisticRegressionClf, RandomForestClf, MLPClf, XGBClf\n",
    "from utils import train_val_test_split"
   ]
  },
  {
   "cell_type": "markdown",
   "id": "0d74f10a",
   "metadata": {},
   "source": [
    "# Read Data"
   ]
  },
  {
   "cell_type": "code",
   "execution_count": null,
   "id": "50663a82",
   "metadata": {
    "ExecuteTime": {
     "end_time": "2023-08-27T19:01:14.318716Z",
     "start_time": "2023-08-27T19:01:14.123384Z"
    }
   },
   "outputs": [],
   "source": [
    "df_medical_appointment = pd.read_csv(\"./data/medical_appointment_train.csv\")\n",
    "df_medical_appointment.rename(columns={\"No-show\": \"no_show\"}, inplace=True)\n",
    "df_medical_appointment['no_show'].replace({\"No\": 0, \"Yes\": 1}, inplace=True)\n",
    "feature_cols = [\n",
    "    'PatientID', 'AppointmentID', 'Gender', 'ScheduledDay',\n",
    "    'AppointmentDay', 'Age', 'Neighbourhood', 'Scholarship', 'Hypertension',\n",
    "    'Diabetes', 'Alcoholism', 'Handicap', 'SMS_received',\n",
    "]\n",
    "df_medical_appointment.sample(10)"
   ]
  },
  {
   "cell_type": "markdown",
   "id": "4b632212",
   "metadata": {},
   "source": [
    "# Exploratory Data Analysis"
   ]
  },
  {
   "cell_type": "code",
   "execution_count": null,
   "id": "db9d1e36",
   "metadata": {
    "ExecuteTime": {
     "end_time": "2023-08-27T19:01:14.455345Z",
     "start_time": "2023-08-27T19:01:14.414045Z"
    }
   },
   "outputs": [],
   "source": [
    "eda = EDA_medical_appointment(df_medical_appointment[feature_cols], df_medical_appointment['no_show'])"
   ]
  },
  {
   "cell_type": "code",
   "execution_count": null,
   "id": "8332aedc",
   "metadata": {
    "ExecuteTime": {
     "end_time": "2023-08-27T09:20:34.013211Z",
     "start_time": "2023-08-27T09:20:33.941359Z"
    },
    "scrolled": true
   },
   "outputs": [],
   "source": [
    "eda.describe_general_stats()"
   ]
  },
  {
   "cell_type": "markdown",
   "id": "42737506",
   "metadata": {},
   "source": [
    "Min age < 0 ==> incorrect entry\n",
    "\n",
    "remove those values later"
   ]
  },
  {
   "cell_type": "code",
   "execution_count": null,
   "id": "ea3ee55d",
   "metadata": {
    "ExecuteTime": {
     "end_time": "2023-08-27T09:20:35.196558Z",
     "start_time": "2023-08-27T09:20:34.942825Z"
    },
    "scrolled": true
   },
   "outputs": [],
   "source": [
    "eda.stats_per_unique_patient()"
   ]
  },
  {
   "cell_type": "markdown",
   "id": "011520cf",
   "metadata": {},
   "source": [
    "**Conclusion:** Frame the problem as a binary classification per patient"
   ]
  },
  {
   "cell_type": "code",
   "execution_count": null,
   "id": "6c940e0c",
   "metadata": {
    "ExecuteTime": {
     "end_time": "2023-08-27T09:20:36.196856Z",
     "start_time": "2023-08-27T09:20:36.109891Z"
    }
   },
   "outputs": [],
   "source": [
    "eda.visulaize_class_distribution()"
   ]
  },
  {
   "cell_type": "code",
   "execution_count": null,
   "id": "966b4007",
   "metadata": {
    "ExecuteTime": {
     "end_time": "2023-08-27T09:20:37.593303Z",
     "start_time": "2023-08-27T09:20:37.090381Z"
    }
   },
   "outputs": [],
   "source": [
    "eda.visulaize_no_show_prob_per_variable()"
   ]
  },
  {
   "cell_type": "markdown",
   "id": "0eb0909e",
   "metadata": {},
   "source": [
    "# Preprocessing"
   ]
  },
  {
   "cell_type": "code",
   "execution_count": null,
   "id": "cfde3e2d",
   "metadata": {
    "ExecuteTime": {
     "end_time": "2023-08-27T19:01:17.179763Z",
     "start_time": "2023-08-27T19:01:17.138615Z"
    }
   },
   "outputs": [],
   "source": [
    "preprocessor = preprocMedicalAppointment()"
   ]
  },
  {
   "cell_type": "code",
   "execution_count": null,
   "id": "b1ed5b67",
   "metadata": {
    "ExecuteTime": {
     "end_time": "2023-08-27T19:01:17.540154Z",
     "start_time": "2023-08-27T19:01:17.495373Z"
    }
   },
   "outputs": [],
   "source": [
    "print(\"before\", df_medical_appointment.shape)\n",
    "df_medical_appointment = preprocessor.remove_outliers_age(df_medical_appointment)\n",
    "print(\"after\", df_medical_appointment.shape)"
   ]
  },
  {
   "cell_type": "code",
   "execution_count": null,
   "id": "30fdddb0",
   "metadata": {
    "ExecuteTime": {
     "end_time": "2023-08-27T19:01:17.802900Z",
     "start_time": "2023-08-27T19:01:17.738539Z"
    },
    "scrolled": true
   },
   "outputs": [],
   "source": [
    "X_train, y_train, X_test, y_test, X_val, y_val = train_val_test_split(df_medical_appointment, feature_cols=feature_cols, target_col='no_show', test_percent=20)"
   ]
  },
  {
   "cell_type": "markdown",
   "id": "899f874d",
   "metadata": {},
   "source": [
    "# Feature Extraction"
   ]
  },
  {
   "cell_type": "code",
   "execution_count": null,
   "id": "405943d8",
   "metadata": {
    "ExecuteTime": {
     "end_time": "2023-08-27T19:01:18.870970Z",
     "start_time": "2023-08-27T19:01:18.829507Z"
    }
   },
   "outputs": [],
   "source": [
    "feature_extractor = featuresMedicalAppointment()"
   ]
  },
  {
   "cell_type": "code",
   "execution_count": null,
   "id": "37c70d48",
   "metadata": {
    "ExecuteTime": {
     "end_time": "2023-08-27T19:01:19.890396Z",
     "start_time": "2023-08-27T19:01:19.154231Z"
    }
   },
   "outputs": [],
   "source": [
    "scheduled_after_appointment_strategy = 0\n",
    "X_train = feature_extractor.feat_n_hours_scheduled_before(X_train, scheduled_after_appointment_strategy=scheduled_after_appointment_strategy)\n",
    "X_train.shape"
   ]
  },
  {
   "cell_type": "code",
   "execution_count": null,
   "id": "18213256",
   "metadata": {
    "ExecuteTime": {
     "end_time": "2023-08-27T19:01:20.038513Z",
     "start_time": "2023-08-27T19:01:20.001495Z"
    }
   },
   "outputs": [],
   "source": [
    "# X_train = feature_extractor.feat_appointment_date(X_train)\n",
    "# X_train.shape"
   ]
  },
  {
   "cell_type": "code",
   "execution_count": null,
   "id": "64a3ac9a",
   "metadata": {
    "ExecuteTime": {
     "end_time": "2023-08-27T19:01:20.312371Z",
     "start_time": "2023-08-27T19:01:20.143488Z"
    },
    "scrolled": true
   },
   "outputs": [],
   "source": [
    "infrequent_threshold = 100\n",
    "X_train = feature_extractor.feat_categorical_to_one_hot_encoding_train(X_train, infrequent_threshold=infrequent_threshold)\n",
    "X_train.shape"
   ]
  },
  {
   "cell_type": "code",
   "execution_count": null,
   "id": "32ec4342",
   "metadata": {
    "ExecuteTime": {
     "end_time": "2023-08-27T19:01:20.782653Z",
     "start_time": "2023-08-27T19:01:20.738973Z"
    },
    "scrolled": true
   },
   "outputs": [],
   "source": [
    "columns_to_scale = ['Age']\n",
    "X_train = feature_extractor.feat_minmax_norm_train(X_train, columns_to_scale)\n",
    "X_train.shape"
   ]
  },
  {
   "cell_type": "code",
   "execution_count": null,
   "id": "0aa3a91f",
   "metadata": {
    "ExecuteTime": {
     "end_time": "2023-08-27T19:01:21.130294Z",
     "start_time": "2023-08-27T19:01:21.061252Z"
    }
   },
   "outputs": [],
   "source": [
    "X_train.drop(columns=['PatientID', 'AppointmentID', 'ScheduledDay', 'AppointmentDay'], inplace=True)\n",
    "X_train.shape"
   ]
  },
  {
   "cell_type": "code",
   "execution_count": null,
   "id": "61deb428",
   "metadata": {
    "ExecuteTime": {
     "end_time": "2023-08-27T19:01:21.728534Z",
     "start_time": "2023-08-27T19:01:21.674330Z"
    },
    "scrolled": true
   },
   "outputs": [],
   "source": [
    "X_train.info()"
   ]
  },
  {
   "cell_type": "markdown",
   "id": "2980408d",
   "metadata": {},
   "source": [
    "# Feature Selection"
   ]
  },
  {
   "cell_type": "markdown",
   "id": "47ab267b",
   "metadata": {},
   "source": [
    ">**Permutation Importance**\n",
    "\n",
    "    One of the most basic questions we might ask of a model is: \n",
    "    What features have the biggest impact on predictions? This concept is called feature importance.\n",
    "\n",
    "    In this notebook we use permutation importance. Compared to most other approaches, permutation importance is:\n",
    "           - fast to calculate,\n",
    "           - widely used and understood, and\n",
    "           - consistent with properties we would want a feature importance measure to have.\n",
    "    Permutation importance is calculated after a model has been fitted.\n",
    "    The basic question it answers is: If I randomly shuffle a single column of the validation data, leaving the target and all other columns in place, how would that affect the accuracy of predictions in that now-shuffled data? Randomly re-ordering a single column should cause less accurate predictions, since the resulting data no longer corresponds to anything observed in the real world. Model accuracy especially suffers if we shuffle a column that the model relied on heavily for predictions.\n"
   ]
  },
  {
   "cell_type": "markdown",
   "id": "a4ff0e46",
   "metadata": {},
   "source": [
    ">**Hierarchical clustering**\n",
    "\n",
    "    In hierarchical clustering, we look at every pair of objects and say which two objects are the closest. We then take the closest pair, delete them, and replace them with the midpoint of the two. Then repeat that again and again. Since we are removing points and replacing them with their averages, you are gradually reducing a number of points by pairwise combining. The cool thing is, you can plot that. Rather than looking at points, you look at variables and we can see which two variables are the most similar. So the horizontal axis here is how similar are the two points that are being compared. If they are closer to the right, that means that they are very similar. In this case, we actually used Spearman’s R. So correlation is almost exactly the same as the R², but it’s between two variables rather than a variable and its prediction. "
   ]
  },
  {
   "cell_type": "markdown",
   "id": "54e7935f",
   "metadata": {},
   "source": [
    "## Permutation Importance 1"
   ]
  },
  {
   "cell_type": "code",
   "execution_count": null,
   "id": "35691bed",
   "metadata": {
    "ExecuteTime": {
     "end_time": "2023-08-27T19:01:29.598201Z",
     "start_time": "2023-08-27T19:01:26.000216Z"
    },
    "scrolled": true
   },
   "outputs": [],
   "source": [
    "df_feature_importances = feature_selection_permutation_importance(\n",
    "    X_train[:1000], \n",
    "    y_train[:1000], \n",
    "    n_jobs=4, \n",
    "    n_repeats=4,\n",
    "    plot=True,\n",
    ")"
   ]
  },
  {
   "cell_type": "markdown",
   "id": "6deb0408",
   "metadata": {},
   "source": [
    "## Hierarchical Clustering 1"
   ]
  },
  {
   "cell_type": "code",
   "execution_count": null,
   "id": "afdae773",
   "metadata": {
    "ExecuteTime": {
     "end_time": "2023-08-27T19:01:29.771924Z",
     "start_time": "2023-08-27T19:01:29.733196Z"
    }
   },
   "outputs": [],
   "source": [
    "THRESHOLD_CLUSTERING = 0.055\n",
    "THRESHOLD_IMPORTANCE = None # Set to None in first iteration"
   ]
  },
  {
   "cell_type": "code",
   "execution_count": null,
   "id": "4c401c8d",
   "metadata": {
    "ExecuteTime": {
     "end_time": "2023-08-27T19:01:32.387661Z",
     "start_time": "2023-08-27T19:01:29.896728Z"
    },
    "scrolled": true
   },
   "outputs": [],
   "source": [
    "df_selected_features = feature_selection_hierarchical_clustering(\n",
    "    X_train, \n",
    "    threshold_clustering=THRESHOLD_CLUSTERING, \n",
    "    threshold_importance=THRESHOLD_IMPORTANCE, \n",
    "    df_feature_importances=df_feature_importances, \n",
    "    plot=True,\n",
    ")\n",
    "\n",
    "display(df_selected_features)"
   ]
  },
  {
   "cell_type": "code",
   "execution_count": null,
   "id": "28c58e6b",
   "metadata": {
    "ExecuteTime": {
     "end_time": "2023-08-27T19:01:32.557052Z",
     "start_time": "2023-08-27T19:01:32.518749Z"
    },
    "scrolled": true
   },
   "outputs": [],
   "source": [
    "FEATURES_PERMUTATION_IMPORTANCE_2 = df_selected_features['feature'].to_list()"
   ]
  },
  {
   "cell_type": "markdown",
   "id": "16841c58",
   "metadata": {},
   "source": [
    "## Permutation Importance 2"
   ]
  },
  {
   "cell_type": "code",
   "execution_count": null,
   "id": "6116abcb",
   "metadata": {
    "ExecuteTime": {
     "end_time": "2023-08-27T19:01:36.266318Z",
     "start_time": "2023-08-27T19:01:32.687070Z"
    },
    "scrolled": true
   },
   "outputs": [],
   "source": [
    "df_feature_importances = feature_selection_permutation_importance(\n",
    "    X_train[:1000],\n",
    "    y_train[:1000],\n",
    "    n_jobs=4,\n",
    "    n_repeats=4,\n",
    "    plot=True,\n",
    ")"
   ]
  },
  {
   "cell_type": "markdown",
   "id": "1f277e81",
   "metadata": {},
   "source": [
    "## Hierarchical Clustering 2"
   ]
  },
  {
   "cell_type": "code",
   "execution_count": null,
   "id": "2f362150",
   "metadata": {
    "ExecuteTime": {
     "end_time": "2023-08-27T19:01:36.441380Z",
     "start_time": "2023-08-27T19:01:36.401786Z"
    }
   },
   "outputs": [],
   "source": [
    "THRESHOLD_CLUSTERING = 0.055\n",
    "THRESHOLD_IMPORTANCE = 0.005 # Keeping 0.005 as the reference, change until you have desired number of features"
   ]
  },
  {
   "cell_type": "code",
   "execution_count": null,
   "id": "e2f263cb",
   "metadata": {
    "ExecuteTime": {
     "end_time": "2023-08-27T19:01:39.090464Z",
     "start_time": "2023-08-27T19:01:36.567787Z"
    }
   },
   "outputs": [],
   "source": [
    "df_selected_features = feature_selection_hierarchical_clustering(\n",
    "    X_train[FEATURES_PERMUTATION_IMPORTANCE_2], \n",
    "    threshold_clustering=THRESHOLD_CLUSTERING, \n",
    "    threshold_importance=THRESHOLD_IMPORTANCE, \n",
    "    df_feature_importances=df_feature_importances, \n",
    "    plot=True,\n",
    ")\n",
    "\n",
    "display(df_selected_features)"
   ]
  },
  {
   "cell_type": "code",
   "execution_count": null,
   "id": "57ea7fc1",
   "metadata": {
    "ExecuteTime": {
     "end_time": "2023-08-27T19:01:39.260574Z",
     "start_time": "2023-08-27T19:01:39.222028Z"
    }
   },
   "outputs": [],
   "source": [
    "FEATURES_LIST_SELECTED = df_selected_features['feature'].to_list()"
   ]
  },
  {
   "cell_type": "markdown",
   "id": "58e6d47e",
   "metadata": {},
   "source": [
    "# Classification"
   ]
  },
  {
   "cell_type": "code",
   "execution_count": null,
   "id": "05e8dc7d",
   "metadata": {
    "ExecuteTime": {
     "end_time": "2023-08-27T19:01:39.626022Z",
     "start_time": "2023-08-27T19:01:39.395178Z"
    },
    "scrolled": true
   },
   "outputs": [],
   "source": [
    "X_test = feature_extractor.feat_n_hours_scheduled_before(X_test, scheduled_after_appointment_strategy=scheduled_after_appointment_strategy)\n",
    "X_test = feature_extractor.feat_categorical_to_one_hot_encoding_test(X_test, infrequent_threshold=infrequent_threshold)\n",
    "X_test = feature_extractor.feat_minmax_norm_test(X_test, columns_to_scale)\n",
    "X_test.drop(columns=['PatientID', 'AppointmentID', 'ScheduledDay', 'AppointmentDay'], inplace=True)\n",
    "X_test.shape"
   ]
  },
  {
   "cell_type": "markdown",
   "id": "fec2688b",
   "metadata": {},
   "source": [
    "## Logistic Regression Classifier"
   ]
  },
  {
   "cell_type": "code",
   "execution_count": null,
   "id": "3cf29d71",
   "metadata": {
    "ExecuteTime": {
     "end_time": "2023-08-27T09:21:21.018044Z",
     "start_time": "2023-08-27T09:21:20.221587Z"
    },
    "scrolled": true
   },
   "outputs": [],
   "source": [
    "clf_logistic_regression = LogisticRegressionClf()\n",
    "clf_logistic_regression.fit_classifier(X_train[FEATURES_LIST_SELECTED], y_train)"
   ]
  },
  {
   "cell_type": "code",
   "execution_count": null,
   "id": "c8dd54e0",
   "metadata": {
    "ExecuteTime": {
     "end_time": "2023-08-27T09:21:22.709255Z",
     "start_time": "2023-08-27T09:21:22.664765Z"
    },
    "scrolled": true
   },
   "outputs": [],
   "source": [
    "y_pred = clf_logistic_regression.predict_classifier(X_test[FEATURES_LIST_SELECTED])\n",
    "clf_logistic_regression.evaluate_classifier(y_test, y_pred)"
   ]
  },
  {
   "cell_type": "markdown",
   "id": "594c723d",
   "metadata": {},
   "source": [
    "## Random Forest Classifier"
   ]
  },
  {
   "cell_type": "code",
   "execution_count": null,
   "id": "2821001e",
   "metadata": {
    "ExecuteTime": {
     "end_time": "2023-08-27T19:01:46.109931Z",
     "start_time": "2023-08-27T19:01:39.760544Z"
    }
   },
   "outputs": [],
   "source": [
    "clf_rf = RandomForestClf()\n",
    "clf_rf.fit_classifier(X_train[FEATURES_LIST_SELECTED], y_train)"
   ]
  },
  {
   "cell_type": "code",
   "execution_count": null,
   "id": "ed539007",
   "metadata": {
    "ExecuteTime": {
     "end_time": "2023-08-27T19:01:46.811998Z",
     "start_time": "2023-08-27T19:01:46.239449Z"
    }
   },
   "outputs": [],
   "source": [
    "y_pred = clf_rf.predict_classifier(X_test[FEATURES_LIST_SELECTED])\n",
    "clf_rf.evaluate_classifier(y_test, y_pred)"
   ]
  },
  {
   "cell_type": "markdown",
   "id": "3edf4982",
   "metadata": {},
   "source": [
    "### Hyperparameter Tuning"
   ]
  },
  {
   "cell_type": "code",
   "execution_count": null,
   "id": "19648940",
   "metadata": {
    "ExecuteTime": {
     "end_time": "2023-08-27T19:39:31.981310Z",
     "start_time": "2023-08-27T19:30:00.226802Z"
    },
    "scrolled": true
   },
   "outputs": [],
   "source": [
    "param_space = {\n",
    "    'n_estimators': (10, 500),\n",
    "    'max_depth': (50, 200),\n",
    "    'min_samples_split': (2, 100),\n",
    "    'min_samples_leaf': (5, 100),\n",
    "    'max_features': (0.2, 1.0),\n",
    "}\n",
    "\n",
    "clf_rf.hyperparmater_tuning(X_train[FEATURES_LIST_SELECTED], y_train, param_space, n_iter=50, cv=5, n_jobs=32)"
   ]
  },
  {
   "cell_type": "code",
   "execution_count": null,
   "id": "92fe7050",
   "metadata": {
    "ExecuteTime": {
     "end_time": "2023-08-27T19:40:13.315154Z",
     "start_time": "2023-08-27T19:40:13.272802Z"
    }
   },
   "outputs": [],
   "source": [
    "clf_rf.classifier"
   ]
  },
  {
   "cell_type": "code",
   "execution_count": null,
   "id": "480891a0",
   "metadata": {
    "ExecuteTime": {
     "end_time": "2023-08-27T19:39:59.537914Z",
     "start_time": "2023-08-27T19:39:59.438229Z"
    }
   },
   "outputs": [],
   "source": [
    "y_pred = clf_rf.predict_classifier(X_test[FEATURES_LIST_SELECTED])\n",
    "clf_rf.evaluate_classifier(y_test, y_pred)"
   ]
  },
  {
   "cell_type": "markdown",
   "id": "16efea17",
   "metadata": {},
   "source": [
    "## XGBoost Classifier"
   ]
  },
  {
   "cell_type": "code",
   "execution_count": null,
   "id": "ae573692",
   "metadata": {
    "ExecuteTime": {
     "end_time": "2023-08-27T09:21:35.906837Z",
     "start_time": "2023-08-27T09:21:34.863008Z"
    }
   },
   "outputs": [],
   "source": [
    "clf_xgb = XGBClf()\n",
    "clf_xgb.fit_classifier(X_train[FEATURES_LIST_SELECTED], y_train)"
   ]
  },
  {
   "cell_type": "code",
   "execution_count": null,
   "id": "6cf6e41e",
   "metadata": {
    "ExecuteTime": {
     "end_time": "2023-08-27T09:21:37.682171Z",
     "start_time": "2023-08-27T09:21:37.619165Z"
    }
   },
   "outputs": [],
   "source": [
    "y_pred = clf_xgb.predict_classifier(X_test[FEATURES_LIST_SELECTED])\n",
    "clf_xgb.evaluate_classifier(y_test, y_pred)"
   ]
  },
  {
   "cell_type": "code",
   "execution_count": null,
   "id": "79b44736",
   "metadata": {
    "ExecuteTime": {
     "end_time": "2023-08-27T09:21:40.179996Z",
     "start_time": "2023-08-27T09:21:39.391223Z"
    },
    "scrolled": true
   },
   "outputs": [],
   "source": [
    "threshold_values = np.arange(0, 1, 0.05)\n",
    "clf_xgb.predict_per_threshold(X_test[FEATURES_LIST_SELECTED], y_test, threshold_values)"
   ]
  },
  {
   "cell_type": "markdown",
   "id": "cd81a390",
   "metadata": {},
   "source": [
    "## MLP Classifier"
   ]
  },
  {
   "cell_type": "code",
   "execution_count": null,
   "id": "9da249db",
   "metadata": {
    "ExecuteTime": {
     "end_time": "2023-08-27T09:21:53.734206Z",
     "start_time": "2023-08-27T09:21:41.869647Z"
    },
    "scrolled": true
   },
   "outputs": [],
   "source": [
    "clf_mlp = MLPClf()\n",
    "clf_mlp.fit_classifier(X_train[FEATURES_LIST_SELECTED], y_train)"
   ]
  },
  {
   "cell_type": "code",
   "execution_count": null,
   "id": "b852fb60",
   "metadata": {
    "ExecuteTime": {
     "end_time": "2023-08-27T09:21:55.479970Z",
     "start_time": "2023-08-27T09:21:55.415556Z"
    },
    "scrolled": false
   },
   "outputs": [],
   "source": [
    "y_pred = clf_mlp.predict_classifier(X_test[FEATURES_LIST_SELECTED])\n",
    "clf_mlp.evaluate_classifier(y_test, y_pred)"
   ]
  },
  {
   "cell_type": "code",
   "execution_count": null,
   "id": "4ebfe4d0",
   "metadata": {
    "ExecuteTime": {
     "end_time": "2023-08-27T09:22:09.957013Z",
     "start_time": "2023-08-27T09:22:09.913268Z"
    }
   },
   "outputs": [],
   "source": [
    "clf_mlp.predict_proba_classifier(X_test[FEATURES_LIST_SELECTED])"
   ]
  },
  {
   "cell_type": "code",
   "execution_count": null,
   "id": "a46f8951",
   "metadata": {
    "ExecuteTime": {
     "end_time": "2023-08-27T09:22:15.891832Z",
     "start_time": "2023-08-27T09:22:15.829278Z"
    },
    "scrolled": false
   },
   "outputs": [],
   "source": [
    "y_pred = clf_mlp.predict_at_threshold(X_test[FEATURES_LIST_SELECTED], 0.4)\n",
    "clf_mlp.evaluate_classifier(y_test, y_pred)"
   ]
  },
  {
   "cell_type": "code",
   "execution_count": null,
   "id": "13d70b1f",
   "metadata": {
    "ExecuteTime": {
     "end_time": "2023-08-27T09:22:18.545939Z",
     "start_time": "2023-08-27T09:22:17.598238Z"
    },
    "scrolled": true
   },
   "outputs": [],
   "source": [
    "threshold_values = np.arange(0, 1, 0.05)\n",
    "clf_mlp.predict_per_threshold(X_test[FEATURES_LIST_SELECTED], y_test, threshold_values)"
   ]
  },
  {
   "cell_type": "markdown",
   "id": "581e1e01",
   "metadata": {},
   "source": [
    "# Error analysis"
   ]
  },
  {
   "cell_type": "code",
   "execution_count": null,
   "id": "9a40c04b",
   "metadata": {
    "ExecuteTime": {
     "end_time": "2023-08-27T09:29:55.727191Z",
     "start_time": "2023-08-27T09:29:55.690511Z"
    },
    "scrolled": true
   },
   "outputs": [],
   "source": [
    "import giskard"
   ]
  },
  {
   "cell_type": "code",
   "execution_count": null,
   "id": "ffb5b43d",
   "metadata": {},
   "outputs": [],
   "source": [
    "classifier = clf_rf"
   ]
  },
  {
   "cell_type": "code",
   "execution_count": null,
   "id": "0733f2f7",
   "metadata": {},
   "outputs": [],
   "source": [
    "giskard_model = giskard.Model(\n",
    "    model=classifier.predict_proba_classifier,  # A prediction function that encapsulates all the data pre-processing steps and that could be executed with the dataset used by the scan.\n",
    "    model_type=\"classification\",  # Either regression, classification or text_generation.\n",
    "    name=\"Medical Appointment\",  # Optional\n",
    "    classification_labels=np.unique(y_test),  # Their order MUST be identical to the prediction_function's output order\n",
    "    feature_names=FEATURES_LIST_SELECTED,  # Default: all columns of your dataset\n",
    "    # classification_threshold=0.5,  # Default: 0.5\n",
    ")\n",
    "\n",
    "giskard_dataset = giskard.Dataset(pd.concat([X_test, pd.Series(y_test, name='target')], axis=1))\n",
    "\n",
    "# Then apply the scan\n",
    "results = giskard.scan(giskard_model, giskard_dataset)\n"
   ]
  },
  {
   "cell_type": "code",
   "execution_count": null,
   "id": "a32df3a2",
   "metadata": {},
   "outputs": [],
   "source": [
    "display(results)"
   ]
  },
  {
   "cell_type": "code",
   "execution_count": 1,
   "id": "e7b73fa6",
   "metadata": {
    "ExecuteTime": {
     "end_time": "2023-08-28T21:16:43.018628Z",
     "start_time": "2023-08-28T21:16:43.011627Z"
    }
   },
   "outputs": [
    {
     "data": {
      "text/plain": [
       "'20230828231643'"
      ]
     },
     "execution_count": 1,
     "metadata": {},
     "output_type": "execute_result"
    }
   ],
   "source": [
    "from datetime import datetime\n",
    "datetime.now().strftime('%Y%m%d%H%M%S')"
   ]
  },
  {
   "cell_type": "code",
   "execution_count": null,
   "id": "2399d7e4",
   "metadata": {},
   "outputs": [],
   "source": []
  }
 ],
 "metadata": {
  "kernelspec": {
   "display_name": "venv_vp",
   "language": "python",
   "name": "venv_vp"
  },
  "language_info": {
   "codemirror_mode": {
    "name": "ipython",
    "version": 3
   },
   "file_extension": ".py",
   "mimetype": "text/x-python",
   "name": "python",
   "nbconvert_exporter": "python",
   "pygments_lexer": "ipython3",
   "version": "3.7.3"
  },
  "toc": {
   "base_numbering": 1,
   "nav_menu": {},
   "number_sections": true,
   "sideBar": true,
   "skip_h1_title": false,
   "title_cell": "Table of Contents",
   "title_sidebar": "Contents",
   "toc_cell": false,
   "toc_position": {},
   "toc_section_display": true,
   "toc_window_display": false
  },
  "varInspector": {
   "cols": {
    "lenName": 16,
    "lenType": 16,
    "lenVar": 40
   },
   "kernels_config": {
    "python": {
     "delete_cmd_postfix": "",
     "delete_cmd_prefix": "del ",
     "library": "var_list.py",
     "varRefreshCmd": "print(var_dic_list())"
    },
    "r": {
     "delete_cmd_postfix": ") ",
     "delete_cmd_prefix": "rm(",
     "library": "var_list.r",
     "varRefreshCmd": "cat(var_dic_list()) "
    }
   },
   "types_to_exclude": [
    "module",
    "function",
    "builtin_function_or_method",
    "instance",
    "_Feature"
   ],
   "window_display": false
  },
  "vscode": {
   "interpreter": {
    "hash": "33ebea81373cee19622d4473e64a70e00f3e3c5224a4e764012af10217c52193"
   }
  }
 },
 "nbformat": 4,
 "nbformat_minor": 5
}
