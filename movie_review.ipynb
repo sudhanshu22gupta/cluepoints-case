{
 "cells": [
  {
   "cell_type": "markdown",
   "metadata": {},
   "source": [
    "## To-Do:\n",
    "\n",
    "1. Save Models\n",
    "2. Add comments and markdown\n",
    "3. "
   ]
  },
  {
   "cell_type": "code",
   "execution_count": null,
   "metadata": {
    "ExecuteTime": {
     "end_time": "2023-08-30T05:27:33.907138Z",
     "start_time": "2023-08-30T05:27:33.904295Z"
    }
   },
   "outputs": [],
   "source": [
    "# import nltk\n",
    "# nltk.download('punkt')\n",
    "# nltk.download('stopwords')"
   ]
  },
  {
   "cell_type": "code",
   "execution_count": null,
   "metadata": {},
   "outputs": [],
   "source": [
    "# !wget https://downloads.cs.stanford.edu/nlp/data/glove.6B.zip\n",
    "# !unzip glove.6B.zip"
   ]
  },
  {
   "cell_type": "code",
   "execution_count": null,
   "metadata": {
    "ExecuteTime": {
     "end_time": "2023-09-02T08:57:32.477361Z",
     "start_time": "2023-09-02T08:57:32.467166Z"
    }
   },
   "outputs": [],
   "source": [
    "display_width = 100 # in percentage\n",
    "\n",
    "from IPython.display import display, HTML\n",
    "display(HTML(\"<style>.container { width:\"+str(display_width)+\"% !important; }</style>\"))"
   ]
  },
  {
   "cell_type": "code",
   "execution_count": null,
   "metadata": {
    "ExecuteTime": {
     "end_time": "2023-09-02T08:57:33.266674Z",
     "start_time": "2023-09-02T08:57:33.254803Z"
    }
   },
   "outputs": [],
   "source": [
    "%reload_ext autoreload\n",
    "%autoreload 2"
   ]
  },
  {
   "cell_type": "code",
   "execution_count": null,
   "metadata": {
    "ExecuteTime": {
     "end_time": "2023-09-01T14:22:44.888078Z",
     "start_time": "2023-09-01T14:22:44.882140Z"
    }
   },
   "outputs": [],
   "source": [
    "import sys\n",
    "sys.path.append(\"/Users/sudhanshugupta/Library/Python/3.9/lib/python/site-packages\")"
   ]
  },
  {
   "cell_type": "code",
   "execution_count": null,
   "metadata": {
    "ExecuteTime": {
     "end_time": "2023-09-02T08:57:36.327823Z",
     "start_time": "2023-09-02T08:57:35.653415Z"
    }
   },
   "outputs": [],
   "source": [
    "import pandas as pd\n",
    "import numpy as np\n",
    "\n",
    "import os\n",
    "\n",
    "import matplotlib.pyplot as plt\n",
    "%matplotlib inline"
   ]
  },
  {
   "cell_type": "code",
   "execution_count": null,
   "metadata": {
    "ExecuteTime": {
     "end_time": "2023-09-02T16:42:30.049680Z",
     "start_time": "2023-09-02T16:42:29.578112Z"
    }
   },
   "outputs": [],
   "source": [
    "from EDA import EDA_movie_reviews\n",
    "from preprocessing import preprocMovieReview\n",
    "from feature_extraction import textVectorizer, GloveVectorizer\n",
    "from utils import train_val_test_split, compare_performances_across_classifiers\n",
    "from classification import LogisticRegressionClf, BiLSTMClf, DistilBERTClassifier"
   ]
  },
  {
   "cell_type": "markdown",
   "metadata": {},
   "source": [
    "# Read Data"
   ]
  },
  {
   "cell_type": "code",
   "execution_count": null,
   "metadata": {
    "ExecuteTime": {
     "end_time": "2023-09-02T08:57:45.073475Z",
     "start_time": "2023-09-02T08:57:44.792064Z"
    }
   },
   "outputs": [],
   "source": [
    "df_movie_reviews = pd.read_csv(\"./data/movie_review_train.tsv\", delimiter=\"\\t\")\n",
    "df_movie_reviews.sample(10)"
   ]
  },
  {
   "cell_type": "markdown",
   "metadata": {},
   "source": [
    "## Basic Text Preprocessing"
   ]
  },
  {
   "cell_type": "code",
   "execution_count": null,
   "metadata": {
    "ExecuteTime": {
     "end_time": "2023-09-02T09:38:06.213275Z",
     "start_time": "2023-09-02T09:37:37.065252Z"
    },
    "scrolled": true
   },
   "outputs": [],
   "source": [
    "text_preprocessor = preprocMovieReview(df_movie_reviews['review'])\n",
    "df_movie_reviews['review_clean'] = text_preprocessor.basic_text_sanitization_pipeline()"
   ]
  },
  {
   "cell_type": "code",
   "execution_count": null,
   "metadata": {
    "ExecuteTime": {
     "end_time": "2023-09-02T09:38:10.838050Z",
     "start_time": "2023-09-02T09:38:10.800225Z"
    }
   },
   "outputs": [],
   "source": [
    "df_movie_reviews['review_clean'].sample(3).values"
   ]
  },
  {
   "cell_type": "markdown",
   "metadata": {},
   "source": [
    "# Exploratory Data Analysis"
   ]
  },
  {
   "cell_type": "code",
   "execution_count": null,
   "metadata": {
    "ExecuteTime": {
     "end_time": "2023-09-02T09:39:21.889209Z",
     "start_time": "2023-09-02T09:39:21.721801Z"
    }
   },
   "outputs": [],
   "source": [
    "eda = EDA_movie_reviews(df_movie_reviews, reviews_col='review_clean', target_col='sentiment')"
   ]
  },
  {
   "cell_type": "code",
   "execution_count": null,
   "metadata": {
    "ExecuteTime": {
     "end_time": "2023-09-02T09:39:27.589555Z",
     "start_time": "2023-09-02T09:39:27.201467Z"
    }
   },
   "outputs": [],
   "source": [
    "eda.visualize_wordcloud()"
   ]
  },
  {
   "cell_type": "code",
   "execution_count": null,
   "metadata": {
    "ExecuteTime": {
     "end_time": "2023-09-02T09:39:32.312859Z",
     "start_time": "2023-09-02T09:39:32.209643Z"
    }
   },
   "outputs": [],
   "source": [
    "eda.visulaize_class_distribution()"
   ]
  },
  {
   "cell_type": "code",
   "execution_count": null,
   "metadata": {
    "ExecuteTime": {
     "end_time": "2023-09-02T16:57:08.576728Z",
     "start_time": "2023-09-02T16:57:08.273382Z"
    },
    "scrolled": true
   },
   "outputs": [],
   "source": [
    "eda.statistics_on_review_text()"
   ]
  },
  {
   "cell_type": "markdown",
   "metadata": {},
   "source": [
    "***Conclusions***\n",
    "\n",
    "1. **max_sequence_length of 150 will cover 75% of the sentences.**\n",
    "2. **max_sequence_length of 300 will cover 95% of the sentences.**"
   ]
  },
  {
   "cell_type": "code",
   "execution_count": null,
   "metadata": {
    "ExecuteTime": {
     "end_time": "2023-09-02T09:43:21.454919Z",
     "start_time": "2023-09-02T09:43:19.858747Z"
    },
    "scrolled": true
   },
   "outputs": [],
   "source": [
    "eda.show_common_n_grams(n=3, show_count=20)"
   ]
  },
  {
   "cell_type": "markdown",
   "metadata": {},
   "source": [
    "# Establish Baseline: TFIDF Vectorizer + Basic Classifier"
   ]
  },
  {
   "cell_type": "code",
   "execution_count": null,
   "metadata": {
    "ExecuteTime": {
     "end_time": "2023-09-02T09:46:49.683028Z",
     "start_time": "2023-09-02T09:46:49.638276Z"
    },
    "code_folding": []
   },
   "outputs": [],
   "source": [
    "(\n",
    "    X_train, \n",
    "    y_train, \n",
    "    X_test, \n",
    "    y_test, \n",
    "    X_val, \n",
    "    y_val\n",
    ") = train_val_test_split(\n",
    "    df_movie_reviews, \n",
    "    feature_cols='review_clean', \n",
    "    target_col='sentiment',\n",
    "    test_percent=25, \n",
    ")\n",
    "\n",
    "# print(f\"{X_train.shape=}, {y_train.shape=}, {X_test.shape=}, {y_test.shape=}, {X_val.shape=}, {y_val.shape=}\")"
   ]
  },
  {
   "cell_type": "code",
   "execution_count": null,
   "metadata": {
    "ExecuteTime": {
     "end_time": "2023-09-02T09:47:53.286416Z",
     "start_time": "2023-09-02T09:47:26.210173Z"
    },
    "scrolled": true
   },
   "outputs": [],
   "source": [
    "tfidf_vectorizer = textVectorizer(vectorizer_type='tfidf')\n",
    "X_train_tfidf = tfidf_vectorizer.apply_transform_train(X_train)\n",
    "X_test_tfidf = tfidf_vectorizer.apply_transform_test(X_test)\n",
    "\n",
    "print(X_train_tfidf.shape, X_test_tfidf.shape)"
   ]
  },
  {
   "cell_type": "code",
   "execution_count": null,
   "metadata": {
    "ExecuteTime": {
     "end_time": "2023-09-02T09:48:03.547972Z",
     "start_time": "2023-09-02T09:48:02.726589Z"
    },
    "scrolled": true
   },
   "outputs": [],
   "source": [
    "clf_logistic_regression = LogisticRegressionClf()\n",
    "clf_logistic_regression.fit_classifier(X_train_tfidf, y_train)\n",
    "y_pred = clf_logistic_regression.predict_classifier(X_test_tfidf)\n",
    "clf_logistic_regression.evaluate_classifier(y_test, y_pred)"
   ]
  },
  {
   "cell_type": "markdown",
   "metadata": {},
   "source": [
    "# Improved Classifier: TFIDF Vectorizer + BiLSTM"
   ]
  },
  {
   "cell_type": "code",
   "execution_count": null,
   "metadata": {
    "ExecuteTime": {
     "end_time": "2023-09-02T16:24:31.812570Z",
     "start_time": "2023-09-02T16:24:29.171517Z"
    },
    "code_folding": []
   },
   "outputs": [],
   "source": [
    "(\n",
    "    X_train, \n",
    "    y_train, \n",
    "    X_test, \n",
    "    y_test, \n",
    "    X_val, \n",
    "    y_val\n",
    ") = train_val_test_split(\n",
    "    df_movie_reviews, \n",
    "    feature_cols='review_clean', \n",
    "    target_col='sentiment',\n",
    "    test_percent=15, \n",
    "    val_percent=15,\n",
    ")\n",
    "# print(f\"{X_train.shape=}, {y_train.shape=}, {X_test.shape=}, {y_test.shape=}, {X_val.shape=}, {y_val.shape=}\")"
   ]
  },
  {
   "cell_type": "code",
   "execution_count": null,
   "metadata": {
    "ExecuteTime": {
     "end_time": "2023-09-02T17:03:31.850419Z",
     "start_time": "2023-09-02T17:03:30.520308Z"
    }
   },
   "outputs": [],
   "source": [
    "embedding_dim = 1\n",
    "vocab_size = 10_000\n",
    "max_sequence_length = vocab_size"
   ]
  },
  {
   "cell_type": "code",
   "execution_count": null,
   "metadata": {
    "ExecuteTime": {
     "end_time": "2023-09-02T17:03:54.897676Z",
     "start_time": "2023-09-02T17:03:37.809560Z"
    },
    "scrolled": true
   },
   "outputs": [],
   "source": [
    "tfidf_vectorizer = textVectorizer(vectorizer_type='tfidf', vocab_size=vocab_size)\n",
    "X_train_tfidf = tfidf_vectorizer.apply_transform_train(X_train).toarray().reshape(-1, len(X_train), vocab_size).transpose(1, 2, 0)\n",
    "X_test_tfidf = tfidf_vectorizer.apply_transform_test(X_test).toarray().reshape(-1, len(X_test), vocab_size).transpose(1, 2, 0)\n",
    "X_val_tfidf = tfidf_vectorizer.apply_transform_test(X_val).toarray().reshape(-1, len(X_val), vocab_size).transpose(1, 2, 0)\n",
    "\n",
    "print(X_train_tfidf.shape, X_test_tfidf.shape, X_val_tfidf.shape)"
   ]
  },
  {
   "cell_type": "code",
   "execution_count": null,
   "metadata": {
    "ExecuteTime": {
     "end_time": "2023-09-02T17:18:32.465930Z",
     "start_time": "2023-09-02T17:14:18.265901Z"
    },
    "scrolled": true
   },
   "outputs": [],
   "source": [
    "HIDDEN_ACTIVATION = 'relu'\n",
    "MAX_EPOCHS = 5\n",
    "LR_INIT = 1e-3\n",
    "BATCH_SIZE = 16\n",
    "L2_REG_PENALTY = 1e-3\n",
    "CALLBACKS = [\"es\", \"rlrop\", \"tensorboard\"]\n",
    "VERBOSITY_LEVEL = 2\n",
    "SAVE_DIR = \"./assets/\"\n",
    "\n",
    "\n",
    "clf_bilstm = BiLSTMClf(\n",
    "        embedding_dim,\n",
    "        vocab_size,\n",
    "        max_sequence_length,\n",
    "        HIDDEN_ACTIVATION,\n",
    "        MAX_EPOCHS,\n",
    "        LR_INIT,\n",
    "        BATCH_SIZE,\n",
    "        L2_REG_PENALTY,\n",
    "        CALLBACKS,\n",
    "        VERBOSITY_LEVEL,\n",
    "        SAVE_DIR,\n",
    ")\n",
    "\n",
    "clf_bilstm.fit_classifier(X_train_tfidf[:32], y_train[:32], X_val_tfidf[:32], y_val[:32])"
   ]
  },
  {
   "cell_type": "code",
   "execution_count": null,
   "metadata": {
    "ExecuteTime": {
     "end_time": "2023-09-02T17:21:59.230012Z",
     "start_time": "2023-09-02T17:21:53.469234Z"
    }
   },
   "outputs": [],
   "source": [
    "y_pred = clf_bilstm.predict_classifier(X_test_tfidf)\n",
    "clf_bilstm.evaluate_classifier(y_test, y_pred)"
   ]
  },
  {
   "cell_type": "markdown",
   "metadata": {},
   "source": [
    "# Improved Embeddings: GloVe + BiLSTM"
   ]
  },
  {
   "cell_type": "code",
   "execution_count": null,
   "metadata": {},
   "outputs": [],
   "source": [
    "text_preprocessor = preprocMovieReview(df_movie_reviews['review'])\n",
    "df_movie_reviews['review_clean'] = text_preprocessor.remove_special_characters()"
   ]
  },
  {
   "cell_type": "code",
   "execution_count": null,
   "metadata": {
    "ExecuteTime": {
     "end_time": "2023-09-02T09:48:12.983103Z",
     "start_time": "2023-09-02T09:48:12.941573Z"
    },
    "code_folding": []
   },
   "outputs": [],
   "source": [
    "(\n",
    "    X_train, \n",
    "    y_train, \n",
    "    X_test, \n",
    "    y_test, \n",
    "    X_val, \n",
    "    y_val\n",
    ") = train_val_test_split(\n",
    "    df_movie_reviews, \n",
    "    feature_cols='review_clean', \n",
    "    target_col='sentiment',\n",
    "    test_percent=15, \n",
    "    val_percent=15,\n",
    ")\n",
    "# print(f\"{X_train.shape=}, {y_train.shape=}, {X_test.shape=}, {y_test.shape=}, {X_val.shape=}, {y_val.shape=}\")"
   ]
  },
  {
   "cell_type": "code",
   "execution_count": null,
   "metadata": {
    "ExecuteTime": {
     "end_time": "2023-09-02T10:04:49.809612Z",
     "start_time": "2023-09-02T10:04:49.315988Z"
    }
   },
   "outputs": [],
   "source": [
    "embedding_dim = 50\n",
    "vocab_size = 50000\n",
    "max_sequence_length = 500\n",
    "glove_emb_path = f\"./assets/glove.6B.{embedding_dim}d.txt\""
   ]
  },
  {
   "cell_type": "code",
   "execution_count": null,
   "metadata": {
    "ExecuteTime": {
     "end_time": "2023-09-02T10:45:12.998339Z",
     "start_time": "2023-09-02T10:45:04.237492Z"
    }
   },
   "outputs": [],
   "source": [
    "glove_vectorizer = GloveVectorizer(embedding_dim, vocab_size, max_sequence_length, glove_emb_path)\n",
    "\n",
    "X_train_glove = glove_vectorizer.vectorize_text(X_train)\n",
    "X_test_glove = glove_vectorizer.vectorize_text(X_test)\n",
    "X_val_glove = glove_vectorizer.vectorize_text(X_val)\n",
    "\n",
    "print(X_train_glove.shape, X_test_glove.shape, X_val_glove.shape)"
   ]
  },
  {
   "cell_type": "code",
   "execution_count": null,
   "metadata": {
    "ExecuteTime": {
     "end_time": "2023-09-02T11:18:58.330898Z",
     "start_time": "2023-09-02T11:07:54.698616Z"
    },
    "scrolled": true
   },
   "outputs": [],
   "source": [
    "HIDDEN_ACTIVATION = 'relu'\n",
    "MAX_EPOCHS = 5\n",
    "LR_INIT = 1e-3\n",
    "BATCH_SIZE = 256\n",
    "L2_REG_PENALTY = 1e-3\n",
    "CALLBACKS = [\"es\", \"rlrop\", \"tensorboard\"]\n",
    "VERBOSITY_LEVEL = 2\n",
    "SAVE_DIR = \"./assets/\"\n",
    "\n",
    "clf_bilstm = BiLSTMClf(\n",
    "    embedding_dim,\n",
    "        vocab_size,\n",
    "        max_sequence_length,\n",
    "        HIDDEN_ACTIVATION,\n",
    "        MAX_EPOCHS,\n",
    "        LR_INIT,\n",
    "        BATCH_SIZE,\n",
    "        L2_REG_PENALTY,\n",
    "        CALLBACKS,\n",
    "        VERBOSITY_LEVEL,\n",
    "        SAVE_DIR,\n",
    ")\n",
    "\n",
    "clf_bilstm.fit_classifier(X_train_glove, y_train, X_val_glove, y_val)"
   ]
  },
  {
   "cell_type": "code",
   "execution_count": null,
   "metadata": {
    "ExecuteTime": {
     "end_time": "2023-09-02T11:22:05.940654Z",
     "start_time": "2023-09-02T11:21:51.137428Z"
    }
   },
   "outputs": [],
   "source": [
    "y_pred = clf_bilstm.predict_classifier(X_test_glove)\n",
    "clf_bilstm.evaluate_classifier(y_test, y_pred)"
   ]
  },
  {
   "cell_type": "markdown",
   "metadata": {},
   "source": [
    "# Improved Embeddings and Classifier: DistilBERT Classifier"
   ]
  },
  {
   "cell_type": "markdown",
   "metadata": {},
   "source": [
    "add rotten tomatoes transfer learning"
   ]
  },
  {
   "cell_type": "code",
   "execution_count": null,
   "metadata": {
    "ExecuteTime": {
     "end_time": "2023-09-02T14:30:04.356006Z",
     "start_time": "2023-09-02T14:30:04.313617Z"
    },
    "code_folding": []
   },
   "outputs": [],
   "source": [
    "(\n",
    "    X_train, \n",
    "    y_train, \n",
    "    X_test, \n",
    "    y_test, \n",
    "    X_val, \n",
    "    y_val\n",
    ") = train_val_test_split(\n",
    "    df_movie_reviews, \n",
    "    feature_cols='review_clean', \n",
    "    target_col='sentiment',\n",
    "    test_percent=15, \n",
    "    val_percent=15,\n",
    ")\n",
    "print(f\"{X_train.shape=}, {y_train.shape=}, {X_test.shape=}, {y_test.shape=}, {X_val.shape=}, {y_val.shape=}\")"
   ]
  },
  {
   "cell_type": "code",
   "execution_count": null,
   "metadata": {
    "ExecuteTime": {
     "end_time": "2023-09-02T16:17:09.445949Z",
     "start_time": "2023-09-02T16:15:12.631197Z"
    },
    "scrolled": true
   },
   "outputs": [],
   "source": [
    "clf_distilbert = DistilBERTClassifier()\n",
    "clf_distilbert.fit_classifier(X_train[:16*1], y_train[:16*1], X_val[:16*1], y_val[:16*1], batch_size=4, n_epochs=2) "
   ]
  },
  {
   "cell_type": "code",
   "execution_count": null,
   "metadata": {
    "ExecuteTime": {
     "end_time": "2023-09-02T16:20:06.801830Z",
     "start_time": "2023-09-02T16:20:00.899648Z"
    }
   },
   "outputs": [],
   "source": [
    "y_pred = clf_distilbert.predict_classifier(X_test[:16*10])\n",
    "clf_distilbert.evaluate_classifier(y_test[:16*10], y_pred)"
   ]
  },
  {
   "cell_type": "code",
   "execution_count": null,
   "metadata": {
    "ExecuteTime": {
     "end_time": "2023-09-02T14:48:48.223710Z",
     "start_time": "2023-09-02T14:48:42.545465Z"
    }
   },
   "outputs": [],
   "source": [
    "import torch\n",
    "torch.cuda.empty_cache()"
   ]
  },
  {
   "cell_type": "code",
   "execution_count": null,
   "metadata": {},
   "outputs": [],
   "source": [
    "print(torch.cuda.memory_summary(device=None, abbreviated=False))"
   ]
  },
  {
   "cell_type": "markdown",
   "metadata": {},
   "source": [
    "# Compare Classifiers"
   ]
  },
  {
   "cell_type": "markdown",
   "metadata": {},
   "source": [
    "compare_performances_across_classifiers(df_metrics)"
   ]
  }
 ],
 "metadata": {
  "kernelspec": {
   "display_name": "Python 3.9.6 ('venv_cp_cs': venv)",
   "language": "python",
   "name": "python3"
  },
  "language_info": {
   "codemirror_mode": {
    "name": "ipython",
    "version": 3
   },
   "file_extension": ".py",
   "mimetype": "text/x-python",
   "name": "python",
   "nbconvert_exporter": "python",
   "pygments_lexer": "ipython3",
   "version": "3.9.6"
  },
  "toc": {
   "base_numbering": 1,
   "nav_menu": {},
   "number_sections": true,
   "sideBar": true,
   "skip_h1_title": false,
   "title_cell": "Table of Contents",
   "title_sidebar": "Contents",
   "toc_cell": false,
   "toc_position": {},
   "toc_section_display": true,
   "toc_window_display": false
  },
  "varInspector": {
   "cols": {
    "lenName": 16,
    "lenType": 16,
    "lenVar": 40
   },
   "kernels_config": {
    "python": {
     "delete_cmd_postfix": "",
     "delete_cmd_prefix": "del ",
     "library": "var_list.py",
     "varRefreshCmd": "print(var_dic_list())"
    },
    "r": {
     "delete_cmd_postfix": ") ",
     "delete_cmd_prefix": "rm(",
     "library": "var_list.r",
     "varRefreshCmd": "cat(var_dic_list()) "
    }
   },
   "types_to_exclude": [
    "module",
    "function",
    "builtin_function_or_method",
    "instance",
    "_Feature"
   ],
   "window_display": false
  },
  "vscode": {
   "interpreter": {
    "hash": "33ebea81373cee19622d4473e64a70e00f3e3c5224a4e764012af10217c52193"
   }
  }
 },
 "nbformat": 4,
 "nbformat_minor": 2
}
