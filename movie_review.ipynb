{
 "cells": [
  {
   "cell_type": "code",
   "execution_count": null,
   "metadata": {
    "ExecuteTime": {
     "end_time": "2023-08-25T09:10:34.800022Z",
     "start_time": "2023-08-25T09:10:18.859102Z"
    }
   },
   "outputs": [],
   "source": [
    "# import nltk\n",
    "# nltk.download('punkt')\n",
    "# nltk.download('stopwords')"
   ]
  },
  {
   "cell_type": "code",
   "execution_count": null,
   "metadata": {
    "ExecuteTime": {
     "end_time": "2023-08-27T10:14:40.727508Z",
     "start_time": "2023-08-27T10:14:40.702567Z"
    }
   },
   "outputs": [],
   "source": [
    "display_width = 100 # in percentage\n",
    "\n",
    "from IPython.display import display, HTML\n",
    "display(HTML(\"<style>.container { width:\"+str(display_width)+\"% !important; }</style>\"))"
   ]
  },
  {
   "cell_type": "code",
   "execution_count": null,
   "metadata": {
    "ExecuteTime": {
     "end_time": "2023-08-27T10:10:29.739891Z",
     "start_time": "2023-08-27T10:10:29.724330Z"
    }
   },
   "outputs": [],
   "source": [
    "%reload_ext autoreload\n",
    "%autoreload 2"
   ]
  },
  {
   "cell_type": "code",
   "execution_count": null,
   "metadata": {
    "ExecuteTime": {
     "end_time": "2023-08-27T10:10:30.108122Z",
     "start_time": "2023-08-27T10:10:30.097334Z"
    }
   },
   "outputs": [],
   "source": [
    "# import sys\n",
    "# sys.path.append(\"/Users/sudhanshugupta/Library/Python/3.9/lib/python/site-packages\")"
   ]
  },
  {
   "cell_type": "code",
   "execution_count": null,
   "metadata": {
    "ExecuteTime": {
     "end_time": "2023-08-27T10:10:31.007122Z",
     "start_time": "2023-08-27T10:10:30.373128Z"
    }
   },
   "outputs": [],
   "source": [
    "import pandas as pd\n",
    "import numpy as np\n",
    "\n",
    "import os\n",
    "\n",
    "import matplotlib.pyplot as plt\n",
    "%matplotlib inline"
   ]
  },
  {
   "cell_type": "code",
   "execution_count": null,
   "metadata": {
    "ExecuteTime": {
     "end_time": "2023-08-27T10:11:38.014506Z",
     "start_time": "2023-08-27T10:11:37.988371Z"
    }
   },
   "outputs": [],
   "source": [
    "from EDA import EDA_movie_reviews\n",
    "from preprocessing import preprocMovieReview\n",
    "from feature_extraction import textVectorizer\n",
    "from utils import train_val_test_split\n",
    "from classification import LogisticRegressionClf, BiLSTMClassifierWrapper"
   ]
  },
  {
   "cell_type": "markdown",
   "metadata": {},
   "source": [
    "# Read Data"
   ]
  },
  {
   "cell_type": "code",
   "execution_count": null,
   "metadata": {
    "ExecuteTime": {
     "end_time": "2023-08-27T12:40:40.037186Z",
     "start_time": "2023-08-27T12:40:39.763454Z"
    }
   },
   "outputs": [],
   "source": [
    "df_movie_reviews = pd.read_csv(\"./data/movie_review_train.tsv\", delimiter=\"\\t\")\n",
    "df_movie_reviews.sample(10)"
   ]
  },
  {
   "cell_type": "markdown",
   "metadata": {},
   "source": [
    "## Basic Text Preprocessing"
   ]
  },
  {
   "cell_type": "code",
   "execution_count": null,
   "metadata": {
    "ExecuteTime": {
     "end_time": "2023-08-27T12:42:03.228947Z",
     "start_time": "2023-08-27T12:40:53.706966Z"
    }
   },
   "outputs": [],
   "source": [
    "text_preprocessor = preprocMovieReview(df_movie_reviews['review'])\n",
    "df_movie_reviews['review_clean'] = text_preprocessor.basic_text_sanitization_pipeline()"
   ]
  },
  {
   "cell_type": "markdown",
   "metadata": {},
   "source": [
    "# Exploratory Data Analysis"
   ]
  },
  {
   "cell_type": "code",
   "execution_count": null,
   "metadata": {
    "ExecuteTime": {
     "end_time": "2023-08-27T10:12:55.993731Z",
     "start_time": "2023-08-27T10:12:53.957769Z"
    }
   },
   "outputs": [],
   "source": [
    "eda = EDA_movie_reviews(df_movie_reviews, reviews_col='review_clean', target_col='sentiment')\n",
    "eda.visualize_wordcloud()\n",
    "eda.visulaize_class_distribution()\n",
    "eda.statistics_on_review_text()\n",
    "eda.show_common_n_grams(n=5, show_count=10)"
   ]
  },
  {
   "cell_type": "code",
   "execution_count": null,
   "metadata": {
    "ExecuteTime": {
     "end_time": "2023-08-27T12:42:42.619715Z",
     "start_time": "2023-08-27T12:42:42.588249Z"
    }
   },
   "outputs": [],
   "source": [
    "X_train, y_train, X_test, y_test, X_val, y_val = train_val_test_split(df_movie_reviews, feature_cols='review_clean', target_col='sentiment', test_percent=20, val_percent=0)\n",
    "# print(f\"{X_train.shape=}, {y_train.shape=}, {X_test.shape=}, {y_test.shape=}, {X_val.shape=}, {y_val.shape=}\")"
   ]
  },
  {
   "cell_type": "markdown",
   "metadata": {},
   "source": [
    "# Establish Baseline: TFIDF Vectorizer + Basic Classifier"
   ]
  },
  {
   "cell_type": "code",
   "execution_count": null,
   "metadata": {
    "ExecuteTime": {
     "end_time": "2023-08-27T10:15:52.362063Z",
     "start_time": "2023-08-27T10:15:35.499976Z"
    },
    "scrolled": true
   },
   "outputs": [],
   "source": [
    "tfidf_vectorizer = textVectorizer(vectorizer_type='tfidf')\n",
    "X_train = tfidf_vectorizer.apply_transform_train(X_train)\n",
    "X_test = tfidf_vectorizer.apply_transform_test(X_test)\n",
    "\n",
    "print(X_train.shape, X_test.shape)"
   ]
  },
  {
   "cell_type": "code",
   "execution_count": null,
   "metadata": {
    "ExecuteTime": {
     "end_time": "2023-08-27T10:15:53.750796Z",
     "start_time": "2023-08-27T10:15:53.195839Z"
    }
   },
   "outputs": [],
   "source": [
    "clf_logistic_regression = LogisticRegressionClf()\n",
    "clf_logistic_regression.fit_classifier(X_train, y_train)\n",
    "y_pred = clf_logistic_regression.predict_classifier(X_test)\n",
    "clf_logistic_regression.evaluate_classifier(y_test, y_pred)"
   ]
  },
  {
   "cell_type": "markdown",
   "metadata": {
    "heading_collapsed": true
   },
   "source": [
    "# Improved Classifier: TFIDF Vectorizer + BiLSTM"
   ]
  },
  {
   "cell_type": "code",
   "execution_count": null,
   "metadata": {
    "ExecuteTime": {
     "end_time": "2023-08-25T14:46:47.743421Z",
     "start_time": "2023-08-25T14:46:44.207038Z"
    },
    "hidden": true,
    "scrolled": true
   },
   "outputs": [],
   "source": [
    "# Example usage\n",
    "input_size = X_train.shape[1]\n",
    "hidden_size = 16\n",
    "output_size = 2\n",
    "num_epochs = 10\n",
    "batch_size = 8\n",
    "lr_init = 1e-3\n",
    "\n",
    "clf_bilstm = BiLSTMClassifierWrapper(input_size, hidden_size, output_size, batch_size, num_epochs, lr_init)\n",
    "clf_bilstm.fit_classifier(X_train, y_train)\n",
    "y_pred = clf_bilstm.predict_classifier(X_test)\n",
    "clf_bilstm.evaluate_classifier(y_test, y_pred)"
   ]
  },
  {
   "cell_type": "markdown",
   "metadata": {},
   "source": [
    "# Improved Embeddings: Glove + BiLSTM"
   ]
  },
  {
   "cell_type": "code",
   "execution_count": null,
   "metadata": {},
   "outputs": [],
   "source": []
  },
  {
   "cell_type": "code",
   "execution_count": null,
   "metadata": {},
   "outputs": [],
   "source": []
  },
  {
   "cell_type": "markdown",
   "metadata": {},
   "source": [
    "# Transformer Based: BERT"
   ]
  },
  {
   "cell_type": "code",
   "execution_count": null,
   "metadata": {
    "ExecuteTime": {
     "end_time": "2023-08-27T12:42:48.118884Z",
     "start_time": "2023-08-27T12:42:48.089505Z"
    }
   },
   "outputs": [],
   "source": [
    "from classification import DistilBERTClassifier"
   ]
  },
  {
   "cell_type": "code",
   "execution_count": null,
   "metadata": {
    "ExecuteTime": {
     "end_time": "2023-08-27T12:43:12.668712Z",
     "start_time": "2023-08-27T12:43:09.990234Z"
    }
   },
   "outputs": [],
   "source": [
    "clf_distilbert = DistilBERTClassifier()\n",
    "clf_distilbert.fit_classifier(X_train, y_train)"
   ]
  },
  {
   "cell_type": "markdown",
   "metadata": {},
   "source": [
    "# Error Analysis"
   ]
  },
  {
   "cell_type": "code",
   "execution_count": null,
   "metadata": {},
   "outputs": [],
   "source": []
  },
  {
   "cell_type": "code",
   "execution_count": null,
   "metadata": {},
   "outputs": [],
   "source": []
  }
 ],
 "metadata": {
  "kernelspec": {
   "display_name": "venv_vp",
   "language": "python",
   "name": "venv_vp"
  },
  "language_info": {
   "codemirror_mode": {
    "name": "ipython",
    "version": 3
   },
   "file_extension": ".py",
   "mimetype": "text/x-python",
   "name": "python",
   "nbconvert_exporter": "python",
   "pygments_lexer": "ipython3",
   "version": "3.7.3"
  },
  "toc": {
   "base_numbering": 1,
   "nav_menu": {},
   "number_sections": true,
   "sideBar": true,
   "skip_h1_title": false,
   "title_cell": "Table of Contents",
   "title_sidebar": "Contents",
   "toc_cell": false,
   "toc_position": {},
   "toc_section_display": true,
   "toc_window_display": false
  },
  "varInspector": {
   "cols": {
    "lenName": 16,
    "lenType": 16,
    "lenVar": 40
   },
   "kernels_config": {
    "python": {
     "delete_cmd_postfix": "",
     "delete_cmd_prefix": "del ",
     "library": "var_list.py",
     "varRefreshCmd": "print(var_dic_list())"
    },
    "r": {
     "delete_cmd_postfix": ") ",
     "delete_cmd_prefix": "rm(",
     "library": "var_list.r",
     "varRefreshCmd": "cat(var_dic_list()) "
    }
   },
   "types_to_exclude": [
    "module",
    "function",
    "builtin_function_or_method",
    "instance",
    "_Feature"
   ],
   "window_display": false
  },
  "vscode": {
   "interpreter": {
    "hash": "33ebea81373cee19622d4473e64a70e00f3e3c5224a4e764012af10217c52193"
   }
  }
 },
 "nbformat": 4,
 "nbformat_minor": 2
}
