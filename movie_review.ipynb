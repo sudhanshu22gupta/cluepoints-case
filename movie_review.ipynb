{
 "cells": [
  {
   "cell_type": "code",
   "execution_count": null,
   "metadata": {
    "ExecuteTime": {
     "end_time": "2023-08-30T05:27:33.907138Z",
     "start_time": "2023-08-30T05:27:33.904295Z"
    }
   },
   "outputs": [],
   "source": [
    "# import nltk\n",
    "# nltk.download('punkt')\n",
    "# nltk.download('stopwords')"
   ]
  },
  {
   "cell_type": "code",
   "execution_count": null,
   "metadata": {},
   "outputs": [],
   "source": [
    "# !wget https://downloads.cs.stanford.edu/nlp/data/glove.6B.zip\n",
    "# !unzip glove.6B.zip"
   ]
  },
  {
   "cell_type": "code",
   "execution_count": null,
   "metadata": {
    "ExecuteTime": {
     "end_time": "2023-08-30T14:00:34.538105Z",
     "start_time": "2023-08-30T14:00:34.533807Z"
    }
   },
   "outputs": [],
   "source": [
    "display_width = 100 # in percentage\n",
    "\n",
    "from IPython.display import display, HTML\n",
    "display(HTML(\"<style>.container { width:\"+str(display_width)+\"% !important; }</style>\"))"
   ]
  },
  {
   "cell_type": "code",
   "execution_count": null,
   "metadata": {
    "ExecuteTime": {
     "end_time": "2023-08-30T14:00:35.014314Z",
     "start_time": "2023-08-30T14:00:34.997786Z"
    }
   },
   "outputs": [],
   "source": [
    "%reload_ext autoreload\n",
    "%autoreload 2"
   ]
  },
  {
   "cell_type": "code",
   "execution_count": null,
   "metadata": {
    "ExecuteTime": {
     "end_time": "2023-08-30T14:00:35.799862Z",
     "start_time": "2023-08-30T14:00:35.793278Z"
    }
   },
   "outputs": [],
   "source": [
    "# import sys\n",
    "# sys.path.append(\"/Users/sudhanshugupta/Library/Python/3.9/lib/python/site-packages\")"
   ]
  },
  {
   "cell_type": "code",
   "execution_count": null,
   "metadata": {
    "ExecuteTime": {
     "end_time": "2023-08-30T14:00:37.167786Z",
     "start_time": "2023-08-30T14:00:36.499874Z"
    }
   },
   "outputs": [],
   "source": [
    "import pandas as pd\n",
    "import numpy as np\n",
    "\n",
    "import os\n",
    "\n",
    "import matplotlib.pyplot as plt\n",
    "%matplotlib inline"
   ]
  },
  {
   "cell_type": "code",
   "execution_count": null,
   "metadata": {
    "ExecuteTime": {
     "end_time": "2023-08-30T14:00:40.955739Z",
     "start_time": "2023-08-30T14:00:38.056612Z"
    }
   },
   "outputs": [],
   "source": [
    "from EDA import EDA_movie_reviews\n",
    "from preprocessing import preprocMovieReview\n",
    "from feature_extraction import textVectorizer, gloveVectorizer\n",
    "from utils import train_val_test_split\n",
    "from classification import LogisticRegressionClf, BiLSTMClf"
   ]
  },
  {
   "cell_type": "markdown",
   "metadata": {},
   "source": [
    "# Read Data"
   ]
  },
  {
   "cell_type": "code",
   "execution_count": null,
   "metadata": {
    "ExecuteTime": {
     "end_time": "2023-08-30T14:00:44.318350Z",
     "start_time": "2023-08-30T14:00:44.031858Z"
    }
   },
   "outputs": [],
   "source": [
    "df_movie_reviews = pd.read_csv(\"./data/movie_review_train.tsv\", delimiter=\"\\t\")\n",
    "df_movie_reviews.sample(10)"
   ]
  },
  {
   "cell_type": "markdown",
   "metadata": {},
   "source": [
    "## Basic Text Preprocessing"
   ]
  },
  {
   "cell_type": "code",
   "execution_count": null,
   "metadata": {
    "ExecuteTime": {
     "end_time": "2023-08-30T14:01:58.849769Z",
     "start_time": "2023-08-30T14:00:47.902887Z"
    }
   },
   "outputs": [],
   "source": [
    "text_preprocessor = preprocMovieReview(df_movie_reviews['review'])\n",
    "df_movie_reviews['review_clean'] = text_preprocessor.basic_text_sanitization_pipeline()"
   ]
  },
  {
   "cell_type": "markdown",
   "metadata": {},
   "source": [
    "# Exploratory Data Analysis"
   ]
  },
  {
   "cell_type": "code",
   "execution_count": null,
   "metadata": {
    "ExecuteTime": {
     "end_time": "2023-08-30T13:57:58.892409Z",
     "start_time": "2023-08-30T13:57:56.598076Z"
    }
   },
   "outputs": [],
   "source": [
    "eda = EDA_movie_reviews(df_movie_reviews, reviews_col='review_clean', target_col='sentiment')\n",
    "eda.visualize_wordcloud()\n",
    "eda.visulaize_class_distribution()\n",
    "eda.statistics_on_review_text()\n",
    "eda.show_common_n_grams(n=5, show_count=10)"
   ]
  },
  {
   "cell_type": "code",
   "execution_count": null,
   "metadata": {
    "ExecuteTime": {
     "end_time": "2023-08-30T14:02:02.464276Z",
     "start_time": "2023-08-30T14:02:02.422335Z"
    },
    "code_folding": []
   },
   "outputs": [],
   "source": [
    "(\n",
    "    X_train, \n",
    "    y_train, \n",
    "    X_test, \n",
    "    y_test, \n",
    "    X_val, \n",
    "    y_val\n",
    ") = train_val_test_split(\n",
    "    df_movie_reviews, \n",
    "    feature_cols='review', \n",
    "    target_col='sentiment',\n",
    "    test_percent=20, \n",
    "    val_percent=20,\n",
    ")\n",
    "# print(f\"{X_train.shape=}, {y_train.shape=}, {X_test.shape=}, {y_test.shape=}, {X_val.shape=}, {y_val.shape=}\")"
   ]
  },
  {
   "cell_type": "markdown",
   "metadata": {},
   "source": [
    "# Establish Baseline: TFIDF Vectorizer + Basic Classifier"
   ]
  },
  {
   "cell_type": "code",
   "execution_count": null,
   "metadata": {
    "ExecuteTime": {
     "end_time": "2023-08-30T17:32:53.665607Z",
     "start_time": "2023-08-30T17:32:31.874112Z"
    },
    "scrolled": true
   },
   "outputs": [],
   "source": [
    "tfidf_vectorizer = textVectorizer(vectorizer_type='tfidf')\n",
    "X_train_tfidf = tfidf_vectorizer.apply_transform_train(X_train)\n",
    "X_test_tfidf = tfidf_vectorizer.apply_transform_test(X_test)\n",
    "\n",
    "print(X_train_tfidf.shape, X_test_tfidf.shape)"
   ]
  },
  {
   "cell_type": "code",
   "execution_count": null,
   "metadata": {
    "ExecuteTime": {
     "end_time": "2023-08-30T17:33:00.649740Z",
     "start_time": "2023-08-30T17:32:59.989682Z"
    }
   },
   "outputs": [],
   "source": [
    "clf_logistic_regression = LogisticRegressionClf()\n",
    "clf_logistic_regression.fit_classifier(X_train_tfidf, y_train)\n",
    "y_pred = clf_logistic_regression.predict_classifier(X_test_tfidf)\n",
    "clf_logistic_regression.evaluate_classifier(y_test, y_pred)"
   ]
  },
  {
   "cell_type": "markdown",
   "metadata": {},
   "source": [
    "# Improved Classifier: TFIDF Vectorizer + BiLSTM"
   ]
  },
  {
   "cell_type": "code",
   "execution_count": null,
   "metadata": {
    "ExecuteTime": {
     "end_time": "2023-08-30T17:47:01.602035Z",
     "start_time": "2023-08-30T17:46:37.717890Z"
    },
    "scrolled": true
   },
   "outputs": [],
   "source": [
    "tfidf_vectorizer = textVectorizer(vectorizer_type='tfidf')\n",
    "X_train_tfidf = tfidf_vectorizer.apply_transform_train(X_train)\n",
    "X_test_tfidf = tfidf_vectorizer.apply_transform_test(X_test)\n",
    "X_val_tfidf = tfidf_vectorizer.apply_transform_test(X_val)\n",
    "\n",
    "print(X_train_tfidf.shape, X_test_tfidf.shape, X_val_tfidf.shape)"
   ]
  },
  {
   "cell_type": "code",
   "execution_count": null,
   "metadata": {
    "ExecuteTime": {
     "end_time": "2023-08-30T20:34:47.492082Z",
     "start_time": "2023-08-30T20:32:47.815964Z"
    },
    "scrolled": true
   },
   "outputs": [],
   "source": [
    "# Example usage\n",
    "hidden_size = 16\n",
    "output_size = 2\n",
    "num_epochs = 10\n",
    "batch_size = 8\n",
    "lr_init = 1e-3\n",
    "\n",
    "embedding_dim = np.nan\n",
    "vocab_size = X_train_tfidf.shape[1]\n",
    "max_sequence_length = X_train_tfidf.shape[1]\n",
    "HIDDEN_ACTIVATION = 'relu'\n",
    "MAX_EPOCHS = 3\n",
    "LR_INIT = 1e-3\n",
    "BATCH_SIZE = 16\n",
    "L2_REG_PENALTY = 1e-3\n",
    "CALLBACKS = [\"es\", \"rlrop\", \"chkpt\", \"tensorboard\"]\n",
    "VERBOSITY_LEVEL = 2\n",
    "SAVE_DIR = \"./data/\"\n",
    "\n",
    "\n",
    "clf_bilstm = BiLSTMClf(\n",
    "    embedding_dim,\n",
    "        vocab_size,\n",
    "        max_sequence_length,\n",
    "        HIDDEN_ACTIVATION,\n",
    "        MAX_EPOCHS,\n",
    "        LR_INIT,\n",
    "        BATCH_SIZE,\n",
    "        L2_REG_PENALTY,\n",
    "        CALLBACKS,\n",
    "        VERBOSITY_LEVEL,\n",
    "        SAVE_DIR,\n",
    ")\n",
    "\n",
    "clf_bilstm.fit_classifier(X_train_tfidf[:32], y_train[:32], X_val_tfidf[:32], y_val[:32])\n",
    "# y_pred = clf_bilstm.predict_classifier(X_test)\n",
    "# clf_bilstm.evaluate_classifier(y_test, y_pred)"
   ]
  },
  {
   "cell_type": "code",
   "execution_count": null,
   "metadata": {
    "ExecuteTime": {
     "end_time": "2023-08-30T20:36:35.282052Z",
     "start_time": "2023-08-30T20:36:29.770083Z"
    }
   },
   "outputs": [],
   "source": [
    "y_pred = clf_bilstm.predict_classifier(X_test_tfidf[:16*3])\n",
    "clf_bilstm.evaluate_classifier(y_test[:16*3], y_pred)"
   ]
  },
  {
   "cell_type": "markdown",
   "metadata": {},
   "source": [
    "# Improved Embeddings: Glove + BiLSTM"
   ]
  },
  {
   "cell_type": "code",
   "execution_count": null,
   "metadata": {
    "ExecuteTime": {
     "end_time": "2023-08-30T15:10:05.067650Z",
     "start_time": "2023-08-30T15:09:56.696158Z"
    }
   },
   "outputs": [],
   "source": [
    "glove_vectorizer = gloveVectorizer(\n",
    "    X_train, \n",
    "    embedding_dim=50, \n",
    "    vocab_size=10_000, \n",
    "    max_sequence_length=150,\n",
    ")"
   ]
  },
  {
   "cell_type": "code",
   "execution_count": null,
   "metadata": {
    "ExecuteTime": {
     "end_time": "2023-08-30T15:10:12.595814Z",
     "start_time": "2023-08-30T15:10:12.552707Z"
    }
   },
   "outputs": [],
   "source": [
    "glove_vectorizer.embedding_matrix.shape"
   ]
  },
  {
   "cell_type": "code",
   "execution_count": null,
   "metadata": {},
   "outputs": [],
   "source": [
    "glove_vectorizer"
   ]
  },
  {
   "cell_type": "code",
   "execution_count": null,
   "metadata": {
    "ExecuteTime": {
     "end_time": "2023-08-30T15:16:27.877980Z",
     "start_time": "2023-08-30T15:16:27.837748Z"
    }
   },
   "outputs": [],
   "source": [
    "from tensorflow.keras.layers import Embedding"
   ]
  },
  {
   "cell_type": "code",
   "execution_count": null,
   "metadata": {
    "ExecuteTime": {
     "end_time": "2023-08-30T15:18:30.622632Z",
     "start_time": "2023-08-30T15:18:30.576547Z"
    }
   },
   "outputs": [],
   "source": [
    "Embedding(\n",
    "    10_000,\n",
    "    50,\n",
    "    weights = [glove_vectorizer.embedding_matrix],\n",
    "    input_length=300,\n",
    "    trainable = False\n",
    ")"
   ]
  },
  {
   "cell_type": "code",
   "execution_count": null,
   "metadata": {
    "ExecuteTime": {
     "end_time": "2023-08-30T16:50:00.538988Z",
     "start_time": "2023-08-30T16:50:00.498621Z"
    }
   },
   "outputs": [],
   "source": [
    "glove_vectorizer.tokenizer.word_index['sequence']"
   ]
  },
  {
   "cell_type": "code",
   "execution_count": null,
   "metadata": {},
   "outputs": [],
   "source": []
  },
  {
   "cell_type": "code",
   "execution_count": null,
   "metadata": {
    "ExecuteTime": {
     "end_time": "2023-08-30T15:14:45.121501Z",
     "start_time": "2023-08-30T15:14:45.078364Z"
    }
   },
   "outputs": [],
   "source": [
    "glove_vectorizer.text_sequence.shape"
   ]
  },
  {
   "cell_type": "code",
   "execution_count": null,
   "metadata": {
    "ExecuteTime": {
     "end_time": "2023-08-30T16:48:06.786462Z",
     "start_time": "2023-08-30T16:48:06.745076Z"
    }
   },
   "outputs": [],
   "source": [
    "X_train[0]"
   ]
  },
  {
   "cell_type": "code",
   "execution_count": null,
   "metadata": {
    "ExecuteTime": {
     "end_time": "2023-08-30T16:47:12.713224Z",
     "start_time": "2023-08-30T16:47:12.665172Z"
    }
   },
   "outputs": [],
   "source": [
    "glove_vectorizer.text_sequence[0]"
   ]
  },
  {
   "cell_type": "code",
   "execution_count": null,
   "metadata": {
    "ExecuteTime": {
     "end_time": "2023-08-30T15:03:54.852188Z",
     "start_time": "2023-08-30T15:03:54.811443Z"
    }
   },
   "outputs": [],
   "source": [
    "len(glove_vectorizer.word_index)"
   ]
  },
  {
   "cell_type": "code",
   "execution_count": null,
   "metadata": {
    "ExecuteTime": {
     "end_time": "2023-08-30T14:51:30.299985Z",
     "start_time": "2023-08-30T14:51:29.508101Z"
    }
   },
   "outputs": [],
   "source": [
    "from itertools import islice"
   ]
  },
  {
   "cell_type": "code",
   "execution_count": null,
   "metadata": {
    "ExecuteTime": {
     "end_time": "2023-08-30T14:57:22.059701Z",
     "start_time": "2023-08-30T14:57:22.017910Z"
    },
    "scrolled": true
   },
   "outputs": [],
   "source": [
    "{k for k in islice(glove_vectorizer.tokenizer.word_index, 10)}"
   ]
  },
  {
   "cell_type": "code",
   "execution_count": null,
   "metadata": {
    "ExecuteTime": {
     "end_time": "2023-08-30T14:38:43.146600Z",
     "start_time": "2023-08-30T14:38:41.828800Z"
    }
   },
   "outputs": [],
   "source": [
    "take(glove_vectorizer.tokenizer.texts_to_sequences(X_train))"
   ]
  },
  {
   "cell_type": "code",
   "execution_count": null,
   "metadata": {},
   "outputs": [],
   "source": []
  },
  {
   "cell_type": "code",
   "execution_count": null,
   "metadata": {
    "ExecuteTime": {
     "end_time": "2023-08-30T14:33:09.802967Z",
     "start_time": "2023-08-30T14:33:05.445031Z"
    }
   },
   "outputs": [],
   "source": [
    "glove_vectorizer.apply_transform_train(X_train)"
   ]
  },
  {
   "cell_type": "code",
   "execution_count": null,
   "metadata": {
    "ExecuteTime": {
     "end_time": "2023-08-30T14:02:06.603849Z",
     "start_time": "2023-08-30T14:02:06.603839Z"
    }
   },
   "outputs": [],
   "source": [
    "X_train = glove_vectorizer.apply_transform(X_train)"
   ]
  },
  {
   "cell_type": "code",
   "execution_count": null,
   "metadata": {},
   "outputs": [],
   "source": [
    "X_train"
   ]
  },
  {
   "cell_type": "code",
   "execution_count": null,
   "metadata": {
    "ExecuteTime": {
     "end_time": "2023-08-30T09:16:43.443898Z",
     "start_time": "2023-08-30T09:16:43.439065Z"
    }
   },
   "outputs": [],
   "source": [
    "LR = 1e-3\n",
    "BATCH_SIZE = 1024\n",
    "EPOCHS = 10\n",
    "MODEL_PATH = './data/best_model_glove_BiLSTM.hdf5'"
   ]
  },
  {
   "cell_type": "code",
   "execution_count": null,
   "metadata": {},
   "outputs": [],
   "source": []
  },
  {
   "cell_type": "markdown",
   "metadata": {},
   "source": [
    "# Improved Embeddings and Classifier: BERT Classifier"
   ]
  },
  {
   "cell_type": "code",
   "execution_count": null,
   "metadata": {
    "ExecuteTime": {
     "end_time": "2023-08-30T05:28:32.234802Z",
     "start_time": "2023-08-30T05:28:32.191029Z"
    }
   },
   "outputs": [],
   "source": [
    "from classification import DistilBERTClassifier"
   ]
  },
  {
   "cell_type": "code",
   "execution_count": null,
   "metadata": {
    "ExecuteTime": {
     "end_time": "2023-08-30T05:34:56.774064Z",
     "start_time": "2023-08-30T05:33:39.462985Z"
    },
    "scrolled": true
   },
   "outputs": [],
   "source": [
    "clf_distilbert = DistilBERTClassifier()\n",
    "clf_distilbert.fit_classifier(X_train, y_train, X_val, y_val, batch_size=16, n_epochs=2)"
   ]
  },
  {
   "cell_type": "code",
   "execution_count": null,
   "metadata": {
    "ExecuteTime": {
     "end_time": "2023-08-30T05:11:46.156762Z",
     "start_time": "2023-08-30T05:03:07.636394Z"
    }
   },
   "outputs": [],
   "source": [
    "y_pred = clf_distilbert.predict_classifier(X_test, y_test)\n",
    "clf_distilbert.evaluate_classifier(y_test, y_pred)"
   ]
  },
  {
   "cell_type": "markdown",
   "metadata": {},
   "source": [
    "# Error Analysis"
   ]
  },
  {
   "cell_type": "code",
   "execution_count": null,
   "metadata": {},
   "outputs": [],
   "source": []
  },
  {
   "cell_type": "code",
   "execution_count": null,
   "metadata": {},
   "outputs": [],
   "source": []
  }
 ],
 "metadata": {
  "kernelspec": {
   "display_name": "venv_vp",
   "language": "python",
   "name": "venv_vp"
  },
  "language_info": {
   "codemirror_mode": {
    "name": "ipython",
    "version": 3
   },
   "file_extension": ".py",
   "mimetype": "text/x-python",
   "name": "python",
   "nbconvert_exporter": "python",
   "pygments_lexer": "ipython3",
   "version": "3.7.3"
  },
  "toc": {
   "base_numbering": 1,
   "nav_menu": {},
   "number_sections": true,
   "sideBar": true,
   "skip_h1_title": false,
   "title_cell": "Table of Contents",
   "title_sidebar": "Contents",
   "toc_cell": false,
   "toc_position": {},
   "toc_section_display": true,
   "toc_window_display": false
  },
  "varInspector": {
   "cols": {
    "lenName": 16,
    "lenType": 16,
    "lenVar": 40
   },
   "kernels_config": {
    "python": {
     "delete_cmd_postfix": "",
     "delete_cmd_prefix": "del ",
     "library": "var_list.py",
     "varRefreshCmd": "print(var_dic_list())"
    },
    "r": {
     "delete_cmd_postfix": ") ",
     "delete_cmd_prefix": "rm(",
     "library": "var_list.r",
     "varRefreshCmd": "cat(var_dic_list()) "
    }
   },
   "types_to_exclude": [
    "module",
    "function",
    "builtin_function_or_method",
    "instance",
    "_Feature"
   ],
   "window_display": false
  },
  "vscode": {
   "interpreter": {
    "hash": "33ebea81373cee19622d4473e64a70e00f3e3c5224a4e764012af10217c52193"
   }
  }
 },
 "nbformat": 4,
 "nbformat_minor": 2
}
